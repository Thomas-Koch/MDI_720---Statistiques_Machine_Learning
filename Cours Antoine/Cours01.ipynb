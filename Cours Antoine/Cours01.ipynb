{
 "cells": [
  {
   "cell_type": "markdown",
   "metadata": {},
   "source": [
    "- https://perso.telecom-paristech.fr/sabourin/mdi720/mdi720.html\n",
    "- https://sitepedago.telecom-paristech.fr/front/site_MDI720.html \n",
    "- https://sitepedago.telecom-paristech.fr/front/frontoffice.php?SP_ID=3220&#R3184\n",
    "- Avant : http://josephsalmon.eu/MDI720.html\n",
    "\n",
    "Références conseillées :\n",
    "- Delyon 2013 (https://perso.univ-rennes1.fr/bernard.delyon/prbase.pdf)\n",
    "- Saporta : proba, stat, machine learning, "
   ]
  },
  {
   "cell_type": "code",
   "execution_count": 1,
   "metadata": {},
   "outputs": [],
   "source": [
    "import numpy as np\n",
    "import matplotlib.pyplot as plt\n",
    "import math"
   ]
  },
  {
   "cell_type": "markdown",
   "metadata": {},
   "source": [
    "## Modèle statistique\n",
    "\n",
    "Le modèle statistique est une famille de lois: \n",
    "\n",
    "$\\mathcal{M}=\\{P_\\theta: \\theta \\subset \\Theta\\}$ \n",
    "\n",
    "Le modèle est paramétrique si $\\Theta \\subset \\mathbb{R}^p$"
   ]
  },
  {
   "cell_type": "markdown",
   "metadata": {},
   "source": [
    "### Exo : \n",
    "\n",
    "Proposer un modèle $\\mathcal{M}$ pour le “lancer de dé”.\n",
    "\n",
    "#### Solution\n",
    "\n",
    "$\\mathcal{M} = \\{p_i, i \\in \\{1, 6\\}, p_i \\in [0, 1] | \\sum_{i=0}^n = 1 \\}$"
   ]
  },
  {
   "cell_type": "markdown",
   "metadata": {},
   "source": [
    "### Estimateur\n",
    "La fonction $g$ est estimée par $\\hat{g}$\n",
    "\n",
    "Exemple: $Y \\sim \\mathcal{N}(μ, \\sigma^2), \\theta = (μ, \\sigma^2), Θ=\\mathbb{R}  x \\mathbb{R}_∗^+$\n",
    "\n",
    "$g(θ)=θ_1=μ$\n",
    "\n",
    "Exemples d'estimateurs:\n",
    "\n",
    "$\\hat{g_1}(y_1, …, y_n)= \\frac{1}{n} \\sum{y_i}$  (BON)\n",
    "\n",
    "$\\hat{g_2}(y_1, …, y_n)= y_1$  (MEDIOCRE)\n",
    "\n",
    "$\\hat{g_3}(y_1, …, y_n)= \\sum \\frac{(y_i - \\mu)^2}{\\sigma^2}$ (PAS BON car utilise $\\theta$)"
   ]
  },
  {
   "cell_type": "markdown",
   "metadata": {},
   "source": [
    "### Densité\n",
    "\n",
    "$X \\sim P$, de densité p par rapport à dx (au sens de Lesbegue)"
   ]
  },
  {
   "cell_type": "markdown",
   "metadata": {},
   "source": [
    "### Biais\n",
    "\n",
    "$Biais(\\hat{g},g) = E_\\theta(\\hat{g}(y_1, …,y_n) - g(\\theta)$\n",
    "\n",
    "#### Exo \n",
    "\n",
    "Biais de l'estimateur de la variance \n",
    "$$\\hat{g_5}(y_1, …, y_n) = \\frac 1n \\sum_{i=0}^{n}(y_i - \\bar{y})^2$$\n",
    "\n",
    "##### Solution\n",
    "\n",
    "\\begin{align}\n",
    "E\\left(\\hat{g_5}(y_1, …, y_n)\\right) &= E\\left( \\frac 1n \\sum_{i=0}^{n}(y_i - y)^2 \\right) \\\\\n",
    "&= E\\left( \\frac 1n \\sum_{i=0}^{n}(y_i^2 + \\bar{y}^2 - 2 y_i \\bar{y}) \\right) \\\\\n",
    "&= E\\left( Y^2 + \\left( \\frac 1n \\sum_{i=0}^{n} y_i \\right)^2 - \\frac{2}{n^2} \\sum_{i=0}^{n}\\sum_{j=0}^{n}( y_i y_j ) \\right) \\\\\n",
    "&= E\\left( Y^2 - \\frac{1}{n^2} \\left( \\sum_{i=0}^{n} y_i \\right)^2 \\right)\\\\\n",
    "\\end{align}\n",
    "\n",
    "\n",
    "\\begin{align}\n",
    "\\frac{1}{n^2} E\\left( \\left( \\frac 1n \\sum_{i=0}^{n} y_i \\right)^2 \\right) &= \\frac{1}{n^2} E\\left(  \\sum_{i=0}^{n}\\sum_{j=0}^{n}( y_i y_j ) \\right) \\\\\n",
    "&= \\frac{1}{n^2} E \\left( \\sum_{i=0}^{n}\\left( y_i^2 + \\sum_{j \\ne i} y_i y_j \\right) \\right)\\\\\n",
    "&= \\frac{1}{n^2} E \\left( \\sum_{i=0}^{n}\\left( y_i^2 + \\sum_{j \\ne i} y_i y_j \\right) \\right)\\\\\n",
    "&= \\frac 1n E \\left( Y^2 \\right) + \\frac{n(n-1)}{n^2}E(Y)^2 \\\\\n",
    "&= \\frac 1n E \\left( Y^2 \\right) + \\frac{n-1}{n}E(Y)^2 \\\\\n",
    "\\end{align}\n",
    "\n",
    "Avec l'hypothèse que les $y_i$ sont indépendants"
   ]
  },
  {
   "cell_type": "markdown",
   "metadata": {},
   "source": [
    "Finalement : \n",
    "\\begin{align}\n",
    "E\\left(\\hat{g_5}(y_1, …, y_n)\\right) &= E\\left( Y^2 \\right) \n",
    "    - \\frac 1n E \\left( Y^2 \\right) - \\frac{n-1}{n}E(Y)^2 \\\\\n",
    "&= \\frac{n-1}{n} \\left( E( Y^2 ) - E(Y)^2 \\right)\\\\\n",
    "\\end{align}\n",
    "\n",
    "D'où le biais:\n",
    "\\begin{align}\n",
    "E\\left(\\hat{g_5}(y_1, …, y_n)\\right) - Var(Y) \n",
    "    &= \\frac{n-1}{n} \\left( E( Y^2 ) - E(Y)^2 \\right) - E( Y^2 ) - E(Y)^2 \\\\\n",
    "    &= \\frac{-1}{n} \\left( E( Y^2 ) - E(Y)^2 \\right) \\\\\n",
    "    &= \\frac{-1}{n} Var(Y)\n",
    "\\end{align}"
   ]
  },
  {
   "cell_type": "markdown",
   "metadata": {},
   "source": [
    "## Variance (de la loi)\n",
    "\n",
    "### Variance estimée\n",
    "\n",
    "Pour retirer le biais (perte d'1 degré de liberté)\n",
    "$\\hat{g} = \\frac{1}{n-1} \\sum{(y_i - \\bar{y})^2}$\n"
   ]
  },
  {
   "cell_type": "markdown",
   "metadata": {},
   "source": [
    "## Variance de l'estimateur\n",
    "\n",
    "### Variance de l'estimateur de la moyenne\n",
    "\n",
    "\\begin{align}\n",
    "Var(\\hat{g_1}) &= Var(\\frac{1}{n} \\sum{Y_i}) \\\\\n",
    "&= \\frac{1}{n^2} Var(\\sum{Y_i}) \\\\\n",
    "&= \\frac{n}{n^2} Var(Y_i) \\\\\n",
    "&= \\frac{1}{n} Var(Y) \n",
    "\\end{align}\n",
    "\n",
    "Hypothèse ci-dessus : $Y_i$ indépendants\n",
    "\n",
    "\\begin{align}\n",
    "Var(\\hat{g_2}) &= Var(Y_1) \\\\\n",
    "&= Var(Y)\n",
    "\\end{align}\n",
    "\n",
    "Médiocre car ne diminue pas avec n"
   ]
  },
  {
   "cell_type": "markdown",
   "metadata": {},
   "source": [
    "## Risque quadratic\n",
    "\n",
    "$R(\\hat{g}) = E\\bigl((\\hat{g} - g)^2\\bigr) = Var(\\hat{g}) + Biais(\\hat{g})^2$\n",
    "\n",
    "Preuve:\n",
    "\n",
    "$R(\\hat{g}) = E\\bigl((\\hat{g} - g)^2\\bigr) = E\\bigl((\\hat{g} - E(\\hat{g}) + E(\\hat{g}) - g)^2\\bigr)$\n",
    "\n",
    "Puis développer et extraire les constantes"
   ]
  },
  {
   "cell_type": "markdown",
   "metadata": {},
   "source": [
    "# Estimateurs empiriques\n",
    "\n",
    "## Moyenne empirique\n",
    "\n",
    "\n",
    "$\\bar{y_n} = \\langle y_i, \\frac{\\mathbb{1_n}}{n} \\rangle$\n",
    "\n",
    "#### Exo\n",
    "\n",
    "Correspond à une projection de $y_i$ sur le vecteur normalisé des constantes\n",
    "\n",
    "##### Solution\n",
    "\n",
    "$v = (1,...,1), u = \\frac{1}{\\Vert v \\Vert} v = \\frac{1}{\\sqrt{n}} v$\n",
    "\n",
    "$\\langle u, y \\rangle u = \\langle \\frac{1}{\\sqrt{n}} \\mathbb{1_n}, y \\rangle \\frac{1}{\\sqrt{n}} \\mathbb{1_n}$"
   ]
  },
  {
   "cell_type": "markdown",
   "metadata": {},
   "source": [
    "### Exo\n",
    "\n",
    "Montrer que : \n",
    "$ \\bar{y_n} = argmin_{a \\in R} \\left[ E_n \\left((Y - a)^2\\right) \\right] = argmin_{a \\in R} \\frac 1n \\sum(y_i - a)^2$ \n",
    "\n",
    "#### Solution (MSE = Mean Square Error) :\n",
    "\n",
    "\\begin{align}\n",
    "f(a) & = \\frac 1n \\sum(y_i - a)^2 \\\\\n",
    "& = \\frac 1n \\sum(y_i^2 + a^2 - 2y_i a) \\\\\n",
    "& = \\frac 1n \\sum(y_i^2) + a^2 - 2a \\bar{y_n} \\\\\n",
    "\\frac{\\partial f(a)}{\\partial a} & =  2a - 2 \\bar{y_n} \\\\\n",
    "\\frac{\\partial f(a)}{\\partial a} & = 0 \\iff a =\\bar{y_n}\n",
    "\\end{align}"
   ]
  },
  {
   "cell_type": "markdown",
   "metadata": {},
   "source": [
    "### _Exo_\n",
    "\n",
    "Moyenne, Mediane, Moyenne tronquée (15%) sur une distribution exponentielle"
   ]
  },
  {
   "cell_type": "code",
   "execution_count": 2,
   "metadata": {},
   "outputs": [
    {
     "data": {
      "text/plain": [
       "(1.9381005076447013, 1.3278129712357238, 1.5020151902024619)"
      ]
     },
     "execution_count": 2,
     "metadata": {},
     "output_type": "execute_result"
    }
   ],
   "source": [
    "n = 1000\n",
    "lam = 2\n",
    "x = np.random.exponential(lam, n)\n",
    "mean = 1/n * np.sum(x)\n",
    "x_sorted = np.sort(x)\n",
    "median = 1/2 * (x_sorted[math.floor(n/2)-1] + x_sorted[math.ceil(n/2)-1])\n",
    "x_truncated = x_sorted[math.floor(n*0.15)-1:math.ceil(n*0.85)-1]\n",
    "meanTruncated = 1/x_truncated.shape[0] * np.sum(x_truncated)\n",
    "(mean, median, meanTruncated)"
   ]
  },
  {
   "cell_type": "code",
   "execution_count": 3,
   "metadata": {},
   "outputs": [
    {
     "data": {
      "image/png": "[encoded data removed]",
      "text/plain": [
       "<Figure size 432x288 with 1 Axes>"
      ]
     },
     "metadata": {
      "needs_background": "light"
     },
     "output_type": "display_data"
    }
   ],
   "source": [
    "plt.hist(x, 50, density=True, range=(0, 20));\n",
    "plt.hist(x_truncated, 50, alpha=0.5, density=True, range=(0, 20))\n",
    "plt.plot(np.array((mean, median, meanTruncated)), np.ones(3), marker='x');"
   ]
  },
  {
   "cell_type": "markdown",
   "metadata": {},
   "source": [
    "## Variance empirique\n",
    "\n",
    "$Var_n(y) = \\frac 1n \\sum_{i=0}^n(y_i - \\bar{y_n})^2 = \\frac 1n \\Vert y - \\bar{y_n} \\mathbb{1_n} \\Vert^2$\n",
    "\n",
    "### Exo\n",
    "\n",
    "Quels sont les vecteurs $y \\in \\mathbb{R}^n$ tels que $Var_n(y) = 0$\n",
    "\n",
    "#### Solution\n",
    "\n",
    "Les vecteurs où les $y_i$ sont constants"
   ]
  },
  {
   "cell_type": "markdown",
   "metadata": {},
   "source": [
    "## Histogramme\n",
    "\n",
    "### Méthode à noyaux (KDE = Kernel Density Estim)\n",
    "\n",
    "Une gaussienne est appliquée sur chaque point, puis la somme est réalisée"
   ]
  },
  {
   "cell_type": "markdown",
   "metadata": {},
   "source": [
    "## Quantile\n",
    "\n",
    "Fonction inverse généralisée de la CDF (qui peut être ni continue, ni strictement croissante)\n",
    "\n",
    "$p \\in ]0, 1] F^\\leftarrow(p) = min\\{y: F(y) \\ge p\\}$\n",
    "\n",
    "$F^\\leftarrow(0) = -\\infty$\n",
    "\n",
    "$F^\\leftarrow(1) = ?$\n",
    "\n",
    "- Si CDF à support comptact (= densité sur interval borné)\n",
    "\n",
    "Exemple : $Y \\sim U_{[a, b]}$\n",
    "\n",
    "$F^\\leftarrow(1) = b$\n",
    "\n",
    "- Si CDF sur support non borné\n",
    "\n",
    "Exemple : $Y \\sim \\mathcal{E}(1)$\n",
    "\n",
    "PDF : $f(y) = \\mathbb{1}_{\\{y \\ge 0\\}} e^{-\\lambda y}$ \n",
    "\n",
    "$\\{u: F(u) \\ge 1 \\} = \\emptyset$\n",
    "\n",
    "$F^\\leftarrow(1) = +\\infty$\n",
    "\n"
   ]
  },
  {
   "cell_type": "markdown",
   "metadata": {},
   "source": [
    "## Covariance\n",
    "\n",
    "C'est le produit scalaire des résidus (écarts à la moyenne)\n",
    "\n",
    "Corrélation : covariance standardisée (sans échelle)"
   ]
  },
  {
   "cell_type": "markdown",
   "metadata": {},
   "source": [
    "### Exo\n",
    "\n",
    "Montrer que $Cov(X + \\mu) = Cov(X)$\n",
    "\n",
    "#### Solution\n",
    "\n",
    "\\begin{align}\n",
    "Z &= X + \\mu \\\\\n",
    "E(Z) &= E(X) + \\mu \\\\\n",
    "\\\\\n",
    "Cov(Z) &= E \\left[ (Z - E(Z)) (Z - E(Z))^T \\right] \\\\\n",
    "  &= E \\left[ X X^T \\right] \\\\\n",
    "  &= Cov(X) \n",
    "\\end{align}"
   ]
  },
  {
   "cell_type": "markdown",
   "metadata": {},
   "source": [
    "### Démonstration alternative pour $u^T Cov(X) u \\ge o$\n",
    "\n",
    "Def : $\\tilde{X} = X - E(X)$\n",
    "\n",
    "\\begin{align}\n",
    "u^T Cov(X) u &= u^T E(\\tilde{X} \\tilde{X}^T) u \\\\\n",
    "&= E((u^T \\tilde{X}) (\\tilde{X}^T u))\n",
    "\\end{align}\n",
    "\n",
    "Les 2 termes sont dans $\\mathbb{R}$ et égaux donc c'est l'espérance du carré de la variable aléatoire réelle $u^T \\tilde{X}$ qui est donc positive."
   ]
  },
  {
   "cell_type": "markdown",
   "metadata": {},
   "source": [
    "### Exo\n",
    "\n",
    "$Cov(AX) = A Cov(X) A^⊤$, pour toute matrice $A ∈ R^{m×p}$\n",
    "\n",
    "##### Solution\n",
    "\n",
    "\\begin{align}\n",
    "Cov(AX) &= E((AX)(AX)^T) \\\\\n",
    "&= E((AX)(X^T A^T)) \\\\\n",
    "&= A E(XX^T) A^T \\\\\n",
    "&= A Cov(X) A^T \\\\\n",
    "\\end{align}"
   ]
  },
  {
   "cell_type": "markdown",
   "metadata": {},
   "source": [
    "### Décomposition de la covariance\n",
    "\n",
    "$S = Cov(X)$ est positive et semi définie, donc diagonalisable\n",
    "\n",
    "$S = U D U^T$, $U$ est une base orthornmée, $D$ est diagonale (positive).\n",
    "\n",
    "Alors: $S U = U D$"
   ]
  },
  {
   "cell_type": "code",
   "execution_count": 10,
   "metadata": {},
   "outputs": [
    {
     "name": "stdout",
     "output_type": "stream",
     "text": [
      "True\n"
     ]
    }
   ],
   "source": [
    "from scipy.linalg import toeplitz\n",
    "from numpy.linalg import eigh\n",
    "A = toeplitz([1, 2, 0, 2])\n",
    "[Dint, Uint] = eigh(A)\n",
    "# use eigh not eig for symmetric matrices\n",
    "idx = Dint.argsort()[::-1]\n",
    "D = Dint[idx]\n",
    "U = Uint[:, idx]\n",
    "print(np.allclose(U.dot(np.diag(D)).dot(U.T), A))"
   ]
  },
  {
   "cell_type": "code",
   "execution_count": 11,
   "metadata": {},
   "outputs": [
    {
     "data": {
      "text/plain": [
       "array([[1, 2, 0, 2],\n",
       "       [2, 1, 2, 0],\n",
       "       [0, 2, 1, 2],\n",
       "       [2, 0, 2, 1]])"
      ]
     },
     "execution_count": 11,
     "metadata": {},
     "output_type": "execute_result"
    }
   ],
   "source": [
    "A"
   ]
  },
  {
   "cell_type": "code",
   "execution_count": 13,
   "metadata": {},
   "outputs": [
    {
     "data": {
      "text/plain": [
       "array([ 5.,  1.,  1., -3.])"
      ]
     },
     "execution_count": 13,
     "metadata": {},
     "output_type": "execute_result"
    }
   ],
   "source": [
    "D"
   ]
  },
  {
   "cell_type": "code",
   "execution_count": 14,
   "metadata": {},
   "outputs": [
    {
     "data": {
      "text/plain": [
       "array([[ 5.00000000e-01,  0.00000000e+00, -7.07106781e-01,\n",
       "        -5.00000000e-01],\n",
       "       [ 5.00000000e-01, -7.07106781e-01, -7.78391275e-17,\n",
       "         5.00000000e-01],\n",
       "       [ 5.00000000e-01, -5.97270439e-17,  7.07106781e-01,\n",
       "        -5.00000000e-01],\n",
       "       [ 5.00000000e-01,  7.07106781e-01, -1.81120836e-17,\n",
       "         5.00000000e-01]])"
      ]
     },
     "execution_count": 14,
     "metadata": {},
     "output_type": "execute_result"
    }
   ],
   "source": [
    "U"
   ]
  },
  {
   "cell_type": "markdown",
   "metadata": {},
   "source": [
    "## Loi Gaussienne\n",
    "\n",
    "### Multivariée\n",
    "\n",
    "$\\vert \\Sigma \\vert$ est le déterminant de la matrice $\\Sigma$ de covariance.\n",
    "\n",
    "$\\Sigma = U D U^T$\n",
    "\n",
    "Comme : $\\vert A B \\vert = \\vert B A \\vert$\n",
    "\n",
    "$\\vert \\Sigma \\vert = \\vert U (D U^T) \\vert = \\vert (D U^T) U \\vert = \\prod_i \\lambda_i $\n",
    "\n",
    "### Construction de Gaussienne multivariée à partir d'une loi $X = \\mathcal{N}(0, 1)$\n",
    "\n",
    "Soit : $Y = A X + b$\n",
    "\n",
    "On a $Y \\sim \\mathcal{N}(m, S)$\n",
    "\n",
    "Avec:\n",
    "\n",
    "$m = E(Y) = E(A X + b) = A E(X) + b = A \\mu + b$ \n",
    "\n",
    "Si $\\mu = 0$ alors $m = b$\n",
    "\n",
    "\\begin{align}\n",
    "S & = Cov(Y) = Cov(A X + b) = Cov(AX) \\\\\n",
    "  & = E\\left[ A \\tilde{X} \\left(A \\tilde{X}\\right)^T \\right] \\\\\n",
    "  & = A E\\left[ \\tilde{X} \\tilde{X}^T \\right] A^T \\\\\n",
    "  & = A Cov(X) A^T = A \\Sigma A^T\n",
    "\\end{align}\n",
    "\n",
    "Si $\\sigma = Id_p$, alors $S = A A^T$\n",
    "\n",
    "La première étape de la génération est donc de décomposer $S$ en $A A^T$, en utilisant la décomposition de Cholesky"
   ]
  },
  {
   "cell_type": "markdown",
   "metadata": {},
   "source": [
    "Example:"
   ]
  },
  {
   "cell_type": "code",
   "execution_count": 4,
   "metadata": {},
   "outputs": [],
   "source": [
    "N, M = 10000, 5 # 10000 points, 5 features\n",
    "X = np.random.normal(0, 1, (N, M))\n",
    "S = np.array([[ 10, 0.5, 0.2, 0.3, 0.4],\n",
    "              [0.5,   5, 0.3, 0.1, 0.2],\n",
    "              [0.2, 0.3,   4, 0.3, 0.7],\n",
    "              [0.3, 0.1, 0.3,   3, 0.4],\n",
    "              [0.4, 0.2, 0.7, 0.4,   4]])\n",
    "\n",
    "b = np.array([1, 2, 3, 4, 5])"
   ]
  },
  {
   "cell_type": "code",
   "execution_count": 5,
   "metadata": {},
   "outputs": [
    {
     "data": {
      "text/plain": [
       "array([[3.16227766, 0.        , 0.        , 0.        , 0.        ],\n",
       "       [0.15811388, 2.2304708 , 0.        , 0.        , 0.        ],\n",
       "       [0.06324555, 0.13001739, 1.99476702, 0.        , 0.        ],\n",
       "       [0.09486833, 0.03810855, 0.14490175, 1.72294841, 0.        ],\n",
       "       [0.12649111, 0.08070045, 0.34164769, 0.19467749, 1.95521481]])"
      ]
     },
     "execution_count": 5,
     "metadata": {},
     "output_type": "execute_result"
    }
   ],
   "source": [
    "A = np.linalg.cholesky(S)\n",
    "A"
   ]
  },
  {
   "cell_type": "code",
   "execution_count": 6,
   "metadata": {},
   "outputs": [],
   "source": [
    "Y = np.matmul(X, A) + b"
   ]
  },
  {
   "cell_type": "code",
   "execution_count": 7,
   "metadata": {},
   "outputs": [
    {
     "data": {
      "image/png": "[encoded data removed]",
      "text/plain": [
       "<Figure size 432x288 with 1 Axes>"
      ]
     },
     "metadata": {
      "needs_background": "light"
     },
     "output_type": "display_data"
    }
   ],
   "source": [
    "plt.hist(Y, 50);"
   ]
  },
  {
   "cell_type": "code",
   "execution_count": 8,
   "metadata": {},
   "outputs": [
    {
     "data": {
      "text/plain": [
       "array([0.94591289, 1.96618979, 2.97139344, 3.98933607, 5.0043047 ])"
      ]
     },
     "execution_count": 8,
     "metadata": {},
     "output_type": "execute_result"
    }
   ],
   "source": [
    "np.mean(Y, axis=0)"
   ]
  },
  {
   "cell_type": "code",
   "execution_count": 9,
   "metadata": {},
   "outputs": [
    {
     "data": {
      "text/plain": [
       "array([[9.9282704 , 0.35987397, 0.16139896, 0.27110076, 0.17344079],\n",
       "       [0.35987397, 5.11878749, 0.37414925, 0.09716911, 0.22906742],\n",
       "       [0.16139896, 0.37414925, 4.15625123, 0.35195039, 0.63379012],\n",
       "       [0.27110076, 0.09716911, 0.35195039, 3.03196001, 0.37906271],\n",
       "       [0.17344079, 0.22906742, 0.63379012, 0.37906271, 3.86069139]])"
      ]
     },
     "execution_count": 9,
     "metadata": {},
     "output_type": "execute_result"
    }
   ],
   "source": [
    "np.cov(Y.T)"
   ]
  },
  {
   "cell_type": "markdown",
   "metadata": {},
   "source": [
    "## Mes questions\n",
    "\n",
    "- Relation entre dimension d'un modèle stat et degrés de liberté ?"
   ]
  }
 ],
 "metadata": {
  "kernelspec": {
   "display_name": "Python 3",
   "language": "python",
   "name": "python3"
  },
  "language_info": {
   "codemirror_mode": {
    "name": "ipython",
    "version": 3
   },
   "file_extension": ".py",
   "mimetype": "text/x-python",
   "name": "python",
   "nbconvert_exporter": "python",
   "pygments_lexer": "ipython3",
   "version": "3.7.4"
  }
 },
 "nbformat": 4,
 "nbformat_minor": 2
}
