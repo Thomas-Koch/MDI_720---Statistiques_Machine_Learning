{
 "cells": [
  {
   "cell_type": "markdown",
   "metadata": {},
   "source": [
    "# Cours05 : Intervalles de confiance et tests d'hypothèses\n",
    "\n",
    "7 et 14 octobre 2019 (3*1.5h)"
   ]
  },
  {
   "cell_type": "code",
   "execution_count": 62,
   "metadata": {},
   "outputs": [],
   "source": [
    "import numpy as np\n",
    "import matplotlib.pyplot as plt\n",
    "import scipy.stats as stats\n",
    "import sklearn.feature_selection\n",
    "import sklearn.datasets\n",
    "import pandas as pd"
   ]
  },
  {
   "cell_type": "markdown",
   "metadata": {},
   "source": [
    "## Intervalle de confiance\n",
    "\n",
    "Note préliminaire : c'est l'intervalle qui est alératoire, et non la grandeur sous-jacente qui elle est inconnue.\n",
    "\n",
    "$$\\hat{I} = [\\underline{C}, \\overline{C}] / P(g \\in \\hat{I}) = P(\\underline{C} \\le g \\le \\overline{C}) \\ge 95\\%$$\n",
    "\n",
    "$\\hat{I}$ dépend de l'expérience\n",
    "\n",
    "Dans $P(g \\in \\hat{I}) \\ge 1-\\alpha$, c'est $\\hat{I}$ la grandeur à estimer, le \"sujet\"\n"
   ]
  },
  {
   "cell_type": "markdown",
   "metadata": {},
   "source": [
    "### Exemple : interval de confiance sur le résultat d'une élection (voir slides)\n",
    "\n",
    "Pour une probabilité $p$ d'élire un candidat, le but est de trouver une fonction pivotale pour $\\hat{p}-p$ qui ne dépend pas de $p$\n",
    "\n",
    "\n",
    "#### Inégalités de Markov et Tchebyschev\n",
    "\n",
    "Markov :\n",
    "$$ Y: \\Omega \\rightarrow \\mathbb{R}^+ $$\n",
    "$$\\forall t > 0, P(Y > t) \\le \\frac{E(Y)}{t}$$\n",
    "\n",
    "On retrouve l'inégalité de Tchebyschev avec:\n",
    "$$ Y = \\vert X - E(X) \\vert^2 \\implies P(\\vert X - E(X) \\vert^2 > t^2) = P(Y > t^2) \\le  \\frac{E(Y)}{t^2}$$"
   ]
  },
  {
   "cell_type": "markdown",
   "metadata": {},
   "source": [
    "Prenons l'estimateur de p: $\\hat{p} = \\frac 1n \\sum_{i=0}^n x_i$ avec $x_i \\overset{i.i.d.}{\\sim} \\mathcal{B}(p) $ (Bernouilli)\n",
    "\n",
    "$$\\begin{align}\n",
    "Var(\\hat{p} &= Var(\\frac 1n \\sum_{i=0}^n x_i) \\\\\n",
    "&\\overset{indep}{=} \\frac 1n \\sum_{i=0}^n Var(X_i) \\\\\n",
    "&= \\frac{p(1-p)}{n}\n",
    "\\end{align}$$"
   ]
  },
  {
   "cell_type": "markdown",
   "metadata": {},
   "source": [
    "$$\\begin{align}\n",
    "& P(\\vert \\hat{p}-p \\vert \\le \\delta) \\le \\frac{p(1-p)}{n \\delta} \\le \\frac{1}{4n\\delta^2} (1) \\\\\n",
    "\\iff & P(\\vert \\hat{p}-p \\vert > \\delta) >  1 - \\frac{1}{4n\\delta^2} = 1 - \\alpha \\\\\n",
    "\\iff & P(- \\delta \\le p - \\hat{p} \\le \\delta) > 1 - \\alpha (2) \\\\\n",
    "\\iff & P( \\hat{p} - \\delta \\le p \\le \\hat{p} + \\delta) > 1 - \\alpha\n",
    "\\end{align}$$\n",
    "\n",
    "- (1) : $p(1-p)$ est une parabole inversée de maximum $(\\frac 12, \\frac14)$\n",
    "- (2) : par symétrie de l'interval\n",
    "\n",
    "D'où: $P\\left( p \\in I=[\\hat{p} - \\delta , \\hat{p} + \\delta) ] \\right) > 1 - \\alpha$\n",
    "\n",
    "Problème : en utilisant ces inégalités, l'interval est grand (ex élection sur slide)"
   ]
  },
  {
   "cell_type": "markdown",
   "metadata": {},
   "source": [
    "Propositions d'intervalles de confiance:\n",
    "- $\\hat{I}_0 = [0, 1]$ pas intéressant :-)\n",
    "- $\\hat{I}_1 = [0, \\delta]$ = borne supérieure de confiance\n",
    "- $\\hat{I}_2 = [\\delta, 1]$ = borne inférieure de confiance\n"
   ]
  },
  {
   "cell_type": "markdown",
   "metadata": {},
   "source": [
    "__Rem__: optimalité de l'intervalle si pour $Z \\sim f$ sur $\\mathbb{R}$, on recherche $J$ un intervalle de longueur min tellque $P(Z \\in J) \\ge 1 - \\alpha$\n",
    "\n",
    "Si on prend la fonction de densité f(z), $1 - \\alpha(u)$ est l'aire sous la courbe de f sur J(u)\n",
    "\n",
    "$$\\begin{align}\n",
    "1 - \\alpha(u) &= P \\left( Z \\in [J^-(u), J^+(u)] \\right)  \\\\\n",
    "&= \\int_{J(u)} f(z)dz\n",
    "\\end{align}$$\n",
    "\n",
    "On peut montrer $[J^-(u), J^+(u)]  \\in argmin(longueur(J))$ sous contrainte $P(Z \\in J(u)) \\ge 1 - \\alpha(u)$. Mais cette minimisation est difficile à exprimer sans algo de type itératif (Monte Carlo).\n",
    "\n",
    "Cependant, si la densité est symétrique autour de la moyenne (ex.: Gaussien), on peut utiliser les quantiles symétriques autour de la moyenne $q_{\\frac \\alpha2}, q_{1 - \\frac \\alpha2}$"
   ]
  },
  {
   "cell_type": "markdown",
   "metadata": {},
   "source": [
    "__Exemple :__ intervalle de confiance pour l'espérance de X de loi normale, $\\sigma^2$ connu.\n",
    "\n",
    "$$ X_i \\overset{iid}{\\sim} \\mathcal{N}(\\theta, \\sigma^2), i=1..n$$\n",
    "\n",
    "$$ \\hat{\\theta} = \\frac 1n \\sum_{i=0}^n X_i $$\n",
    "\n",
    "$\\hat{\\theta}$ suit une loi gaussienne car c'est une somme de variables gaussiennes indépendantes de même distribution. Paramètres de la loi : $\\hat{\\theta} \\sim \\mathcal{N}(\\theta, \\frac 1n \\sigma^2)$ \n",
    "\n",
    "D'où: \n",
    "$$\\begin{align}\n",
    "\\hat{\\theta} - \\theta &\\sim \\mathcal{N}(0, \\frac 1n \\sigma^2) \\\\\n",
    "\\sqrt{n} \\frac{\\hat{\\theta} - \\theta}{\\sigma} &\\sim \\mathcal{N}(0, 1)\n",
    "\\end{align}$$ \n",
    "Fonction pivotale car la loi est indep. de $\\theta$, gaussienne centrée)"
   ]
  },
  {
   "cell_type": "markdown",
   "metadata": {},
   "source": [
    "Les quantiles de $\\mathcal{N}(0, 1)$ sont connus :\n",
    "$$ P\\left( Z \\in [-1.96, 1.96] \\right) = 0.95 = 1 - \\alpha $$\n",
    "$$ P\\left( Z \\in [-1.64, 1.64] \\right) = 0.90 $$\n",
    "\n",
    "(En R, fonction __qnorm__)"
   ]
  },
  {
   "cell_type": "code",
   "execution_count": 2,
   "metadata": {},
   "outputs": [
    {
     "name": "stdout",
     "output_type": "stream",
     "text": [
      "Pour la loi normale centrée réduite: \n",
      "- CI @ 0.10 = [-1.6449, 1.6449], verification: P(u in CI) = 0.900\n",
      "- CI @ 0.05 = [-1.9600, 1.9600], verification: P(u in CI) = 0.950\n"
     ]
    }
   ],
   "source": [
    "print(\"Pour la loi normale centrée réduite: \")\n",
    "for alpha in [0.1, 0.05]:\n",
    "    boundUp = stats.norm.ppf(1 - (alpha/2))\n",
    "    verif = stats.norm.cdf(boundUp) - stats.norm.cdf(-boundUp)\n",
    "    print(\"- CI @ %.2f = [%.4f, %.4f], verification: P(u in CI) = %.3f\" % (alpha, -boundUp, boundUp, verif))"
   ]
  },
  {
   "cell_type": "markdown",
   "metadata": {},
   "source": [
    "Voir : https://www.johndcook.com/blog/distributions_scipy/\n",
    "\n",
    "Avec probabilité $1 - \\alpha$, $ -1.96 \\le \\sqrt{n} \\frac{ \\theta - \\hat{\\theta}}{\\sigma}  \\le 1.96 $\n",
    "\n",
    "Soit : $ \\hat{\\theta}-1.96 \\frac{\\sigma}{\\sqrt{n}} \\le \\theta  \\le \\hat{\\theta} + 1.96 \\frac{\\sigma}{\\sqrt{n}}  $\n",
    "\n",
    "__Note :__ Quand n augmente, la longueur du CI décroit en $\\frac{1}{\\sqrt{n}}$"
   ]
  },
  {
   "cell_type": "markdown",
   "metadata": {},
   "source": [
    "### Théorème central limite (TCL)\n",
    "\n",
    "$$ \\sqrt{n} \\frac{\\frac 1n \\sum_{i=0}^{n} Y_i - \\mu}{\\sigma} \\overset{loi}{\\rightarrow} \\mathcal{N}(0, 1) $$\n",
    "\n",
    "\n",
    "C'est une convergence en loi : $ \\forall I \\subset \\mathbb{R}, P(Z_n \\in I ) \n",
    "\\underset{n \\rightarrow \\infty}{\\rightarrow} \n",
    "P(Z \\in I)$\n",
    "\n",
    "Avec les variables aléatoires : $ Z_n = \\sqrt{n} \\frac{\\frac 1n \\sum_{i=0}^{n} Y_i - \\mu}{\\sigma} $ Et : $ Z \\sim \\mathcal{N}(0,1)$\n",
    "\n",
    "Implique la convergence des fonctions de répartition (Lemme du Porte-manteaux)\n"
   ]
  },
  {
   "cell_type": "markdown",
   "metadata": {},
   "source": [
    "Plus généralement : $ Z_n \\overset{loi}{\\rightarrow} Z $\n",
    "$$\\iff \\forall f: \\mathbb{R} \\rightarrow \\mathbb{R}, bornée, continue, E(f(Z_n)) \\underset{n \\rightarrow \\infty}{\\rightarrow} E(f(Z)) $$\n",
    "\n",
    "Conséquences : convergence des histogrammes\n"
   ]
  },
  {
   "cell_type": "markdown",
   "metadata": {},
   "source": [
    "#### Intérêt pour l'intervalle de confiance\n",
    "Soit $ (Y_i)_{i=1..n} \\sim P_\\theta, \\theta \\in \\Theta$, quelconque\n",
    "\n",
    "On suppose $ \\sigma^2 = Var_\\theta(Y_1)$ est connue.\n",
    "\n",
    "On veut estimer : $\\mu = E_\\theta(Y_1) = g(\\theta) $\n",
    "\n",
    "On a l'estimateur : $\\hat{\\mu}(Y_1...Y_n) = \\frac 1n \\sum_{i=0}^n Y_i$. \n",
    "\n",
    "On ne prend pas l'hypothèse gaussienne sur $\\hat{\\mu}$, mais on a au minimum $E(Y_1^2) < \\infty$\n",
    "\n",
    "TCL : $ \\sqrt{n} \\frac{\\hat{\\mu} - \\mu}{\\sigma} \\overset{loi}{\\rightarrow} Z, Z \\sim \\mathcal{N}(0,1) $\n",
    "\n",
    "__Note:__ la vitesse de convergence dépend des moments\n",
    "\n",
    "On fait l'approximation : pour tout i fixé: $P(Z_n \\in I) \\approx P(Z \\in I)$, qui est vraie pour $n \\rightarrow \\infty$\n",
    "\n",
    "Avec proba $1-\\alpha$, si $q_{\\frac{\\alpha}{2}}, q_{1-\\frac{\\alpha}{2}}$ sont des quantiles de Z:\n",
    "$$ P(Z_n \\in [q_{\\frac{\\alpha}{2}}, q_{1 - \\frac{\\alpha}{2}}] \\approx 1 - \\alpha $$\n",
    "$$ P(\\mu \\in [ \\hat{\\mu} + \\frac{\\sigma}{\\sqrt{n}} q_{\\frac{\\alpha}{2}}, \\hat{\\mu} + \\frac{\\sigma}{\\sqrt{n}} q_{1 - \\frac{\\alpha}{2}}] \\approx 1 - \\alpha $$\n",
    "\n",
    "C'est l'intervalle de confiance asymptotique de niveau de confiance $1-\\alpha$\n",
    "\n",
    "_Note :_ Voir aussi Van de Vaart, chap 1, 2 : Asymptotic statistics"
   ]
  },
  {
   "cell_type": "markdown",
   "metadata": {},
   "source": [
    "### Lemme de Slutsky\n",
    "\n",
    "Si : $\\begin{cases}\n",
    "X_n \\overset{loi}{\\rightarrow} X \\\\\n",
    "Y_n \\overset{proba}{\\rightarrow} C\n",
    "\\end{cases}$\n",
    ", a priori $C \\ne 0$, alors : $X_n Y_n \\overset{loi}{\\rightarrow} CX$\n",
    "\n",
    "Convergence en probabilité : $\\forall \\epsilon > 0 : P(\\vert Y - C \\vert > \\epsilon ) \\underset{n \\rightarrow \\infty}{\\rightarrow}  0 $ i.e. : la probabilité est dans un intervalle autour de C\n",
    "\n",
    "#### Application\n",
    "\n",
    "$Y_n = \\frac{\\sigma}{\\hat{\\sigma}}$, $X_n = \\sqrt{n} \\frac{\\frac 1n \\sum_{i=0}^{n} Y_i - \\mu}{\\sigma}$ \n",
    "\n",
    "Si $\\hat{\\sigma} \\overset{proba}{\\rightarrow} \\sigma$ alors $Y_n \\overset{proba}{\\rightarrow} 1$\n",
    "\n",
    "D'où, lemme de Slutsky: $ Y_n X_n = \\sqrt{n} \\frac{\\frac 1n \\sum_{i=0}^{n} Y_i - \\mu}{\\hat{\\sigma}} \\overset{loi}{\\rightarrow} Z $\n",
    "\n",
    "Donc : on peut remplacer $\\sigma$ par $\\hat{\\sigma} = \\frac 1n \\sum_{i=0}^{n} \\vert Y_i - \\overline{Y_n} \\vert^2$\n",
    "\n",
    "Remarque : convergence presque sur $\\rightarrow$ convergence en proba en utilisant la loi des grands nombres.\n",
    "\n",
    "- Si $ E(Y_1) < \\infty$, $\\overline{Y_n} = \\frac 1n \\sum_{i=0}^{n} Y_i \\overset{p.s.}{\\rightarrow} E(Y)$\n",
    "- Si $ E(\\vert Y_1 \\vert^2) < \\infty$, $\\hat{\\sigma}^2 \\overset{p.s.}{\\rightarrow} \\sigma^2 = Var(Y)$\n",
    "\n",
    "__Attention :__ C'est $E(Y^4)$, le moment d'ordre 4 qui règle la vitesse de convergence ! Les estimateurs de la variance sont donc généralement mauvais.\n",
    "\n",
    "I.C. sur la variance sont en $ O \\left( \\sqrt{\\frac{E\\vert Y - E(Y) \\vert^2}{n}} \\right) =  O \\left( \\sqrt{\\frac{E(Y^4)}{n}} \\right) $\n",
    "\n",
    "(SCHEMA convergence de $\\sigma^2$ quand on peut dire qu'elle est fausse, quand on peut dire qu'elle n'est pas impossible)"
   ]
  },
  {
   "cell_type": "markdown",
   "metadata": {},
   "source": [
    "#### Application à l'exemple des votes"
   ]
  },
  {
   "cell_type": "markdown",
   "metadata": {},
   "source": [
    "Python depuis les slides :"
   ]
  },
  {
   "cell_type": "code",
   "execution_count": 3,
   "metadata": {},
   "outputs": [
    {
     "name": "stdout",
     "output_type": "stream",
     "text": [
      "IC sur mu = [0.5071, 0.5531 ]\n"
     ]
    }
   ],
   "source": [
    "n = 1000\n",
    "x = np.random.binomial(1, .55, n)\n",
    "\n",
    "pchap = np.mean(x)\n",
    "sigma = np.sqrt(pchap * (1 - pchap))\n",
    "alpha = .05\n",
    "q = stats.norm.ppf(1 - alpha/2)\n",
    "borneinf = pchap - sigma * q / np.sqrt(n)\n",
    "bornesup = pchap - sigma * (1 - q) / np.sqrt(n)\n",
    "print('IC sur mu = [%.4f, %.4f ]' % (borneinf , bornesup) )"
   ]
  },
  {
   "cell_type": "markdown",
   "metadata": {},
   "source": [
    "## Intervalle de confiance pour les moindres carrés\n",
    "\n",
    "Retour au fixed design avec $\\epsilon \\sim \\mathcal{N}(0, \\sigma Id_n)$\n",
    "\n",
    "(slides):\n",
    "$$ T_j = \\frac{\\hat{\\theta_j} - \\theta_j}{\\hat{\\sigma}\\sqrt{(X^TX)^{-1}_{j,j}}} \\sim \\mathcal{T}_{n - rang(X)}$$"
   ]
  },
  {
   "cell_type": "markdown",
   "metadata": {},
   "source": [
    "La loi de Student à $l$ degré de libertés a une densité proche de $ \\frac{1}{1 + t^{l/2}} $. La fonction de répartition complémentaire (1- F(t)) est donc une loi de puissance dont la décroissance est moins rapide que pour la loi gaussienne. Conséquences : les évènements extrêmes sont plus courants, et: $ q_{1 - \\frac{\\alpha}{2}}^\\mathcal{T} > q_{1 - \\frac{\\alpha}{2}}^\\mathcal{N} $"
   ]
  },
  {
   "cell_type": "code",
   "execution_count": 4,
   "metadata": {},
   "outputs": [
    {
     "data": {
      "image/png": "[encoded data removed]",
      "text/plain": [
       "<Figure size 432x288 with 1 Axes>"
      ]
     },
     "metadata": {
      "needs_background": "light"
     },
     "output_type": "display_data"
    }
   ],
   "source": [
    "x = np.linspace(0, 4)\n",
    "plt.plot(x, stats.norm.sf(x))\n",
    "plt.plot(x, stats.t(1).sf(x))\n",
    "plt.plot(x, stats.t(2).sf(x))\n",
    "plt.plot(x, stats.t(5).sf(x))\n",
    "plt.legend(('$\\mathcal{N}(0,1)$', '$\\mathcal{T}(1)$', '$\\mathcal{T}(2)$', '$\\mathcal{T}(5)$'))\n",
    "plt.ylabel('1 - CDF = Survival function')\n",
    "plt.grid()"
   ]
  },
  {
   "cell_type": "markdown",
   "metadata": {},
   "source": [
    "$ Z = \\frac{U}{\\sqrt{\\frac 1l \\sum_i v_i^2}} \\rightarrow \\mathcal{N} $ (Slutsky), Car le dénominateur tend vers une constante"
   ]
  },
  {
   "cell_type": "markdown",
   "metadata": {},
   "source": [
    "Conclusions:\n",
    "- Si le rang(X) est proche de n, il faut utiliser les quantiles de Student\n",
    "- Sinon, quand n est grand, on peut utiliser le TCL et les quantiles de la loi Normale\n",
    "\n",
    "Prochaine étape : Bootstrap, construction sous hypothèse Gaussienne, dépend donc de n grand"
   ]
  },
  {
   "cell_type": "markdown",
   "metadata": {},
   "source": [
    "# Tests d'hypothèses\n",
    "\n",
    "On cherche à tester les hypothèses alternatives $\\mathcal{H}_0$ et $\\mathcal{H}_1$\n",
    "\n",
    "Attention cependant : non vraissemblance de $ \\mathcal{H}_0$ $\\not\\implies$ vraissemblance $\\mathcal{H}_1$\n",
    "\n",
    "__Exemple :__ On lance une pièce n fois, on calcul : $\\hat{p} = 0.51$ Cela conduit à accepter l'hypothèse $\\mathcal{H}_0$ \"La pièce est non biaisée\".\n",
    "\n",
    "## Méthode\n",
    "\n",
    "1. Contruire une statistique de test. Ex.: $T(X_{1..n} = \\frac 1n \\sum_{i=0}^{n} X_i$\n",
    "2. On définie des régions d'acceptation $\\mathcal{X}_0$, et de rejet $\\mathcal{X}_1$ pour $\\mathcal{H}_0$ (ne pas utiliser les données pour construire ces régions)\n",
    "3. Le test est une fonction $\\delta : \\mathcal{X}^n \\rightarrow \\{0, 1\\}^n$ (sur l'espace de $\\mathcal{X}_i$\n",
    "\n",
    "$$ \\delta(X_{1,n} = \\begin{cases} &1 si T(x)\\in \\mathcal{X}_1 \\\\ &0 si T(x)\\in \\mathcal{X}_0 \\end{cases} $$\n",
    "\n",
    "$ (\\mathcal{X}_0, \\mathcal{X}_1)$ est une partition de $\\{T(x_{1..n})| x_{1..n} \\in \\mathcal{X}^n\\}$ (image de T)\n",
    "\n",
    "On cherche à maximiser le risque de 2nd ordre (puissance), tout en gardant le risque de 1er ordre (niveau)\n"
   ]
  },
  {
   "cell_type": "markdown",
   "metadata": {},
   "source": [
    "#### Exemple Gaussien\n",
    "\n",
    "$ Y_i \\sim \\mathcal{N}(\\theta, \\sigma)$, variance connue, moyenne inconnue\n",
    "\n",
    "On définit: $\\begin{cases} \\mathcal{H}_0 : \\theta = 0 \\\\ \\mathcal{H}_1 : \\theta \\ne 0 \\end{cases}$\n",
    "\n",
    "Voir slides pour l'application avec $\\sigma^2 = 1$, sinon renormaliser : \n",
    "- Test double bornes : $\\delta_1 = 1$ si $T(X) \\in R_1 = ]-\\infty, -\\frac{\\sigma}{\\sqrt{n}} q_{1 - \\frac{\\alpha}{2}} ] \\cup [\\frac{\\sigma}{\\sqrt{n}} q_{1 - \\frac{\\alpha}{2}}, \\infty [$\n",
    "- Test simple borne : $\\delta_2 = 1$ si $T(X) \\in R_2 = [\\frac{\\sigma}{\\sqrt{n}} q_{1 - \\alpha}, \\infty [$\n",
    "\n",
    "(SCHEMA simple et double borne)\n",
    "\n",
    "Les tests $\\delta_1$ et $\\delta_2$ ont le même niveau, $\\alpha$, mais n'ont pas la même \"fonction puissance\":\n",
    "$ \\beta_{\\theta}$"
   ]
  },
  {
   "cell_type": "markdown",
   "metadata": {},
   "source": [
    "(Reprise le 14 octobre)"
   ]
  },
  {
   "cell_type": "markdown",
   "metadata": {},
   "source": [
    "### Tester la nullité des coefficients du MCO avec modèle Gaussien\n",
    "\n",
    "(slides 10-12)\n",
    "\n",
    "La région de rejet est symmétrique\n",
    "\n",
    "$$ \\vert \\hat{\\theta}_j \\vert \\le t_{1 - \\frac \\alpha2} \\hat{\\sigma} \\sqrt{(X^T X)_{j,j}^{-1} } $$"
   ]
  },
  {
   "cell_type": "code",
   "execution_count": 50,
   "metadata": {},
   "outputs": [
    {
     "data": {
      "image/png": "[encoded data removed]",
      "text/plain": [
       "<Figure size 432x288 with 1 Axes>"
      ]
     },
     "metadata": {
      "needs_background": "light"
     },
     "output_type": "display_data"
    }
   ],
   "source": [
    "xMax  = 5\n",
    "x     = np.linspace(-xMax, xMax)\n",
    "alpha = 0.1\n",
    "t_halfAlpha = stats.norm.ppf(alpha/2)\n",
    "x2_1  = np.linspace(-xMax, t_halfAlpha)\n",
    "x2_2  = np.linspace(-t_halfAlpha, xMax)\n",
    "plt.plot(x, stats.norm.pdf(x))\n",
    "plt.fill_between(x2_1, stats.norm.pdf(x2_1), edgecolor='blue', hatch='\\\\')\n",
    "plt.fill_between(x2_2, stats.norm.pdf(x2_2), edgecolor='blue', hatch='\\\\')\n",
    "plt.text(t_halfAlpha, 0, \"$t_{\\\\frac{\\\\alpha}{2}}$\", fontsize=18)\n",
    "plt.text(-t_halfAlpha, 0, \"$t_{1-\\\\frac{\\\\alpha}{2}}$\", fontsize=18)\n",
    "plt.xlabel('Densité (PDF)')\n",
    "plt.grid()"
   ]
  },
  {
   "cell_type": "markdown",
   "metadata": {},
   "source": [
    "Relation entre l'intervalle de confiance: la valeur cible $\\theta$ doit se trouver dans l'intervalle de confiance établi à partir de $\\hat{\\theta}$.\n",
    "\n",
    "Dans l'exemple ci-dessous, $X=0$ appartient à l'I.C."
   ]
  },
  {
   "cell_type": "code",
   "execution_count": 49,
   "metadata": {},
   "outputs": [
    {
     "data": {
      "image/png": "[encoded data removed]",
      "text/plain": [
       "<Figure size 432x288 with 1 Axes>"
      ]
     },
     "metadata": {
      "needs_background": "light"
     },
     "output_type": "display_data"
    }
   ],
   "source": [
    "plt.errorbar(0.1, 0.1, xerr=0.3, fmt='o')\n",
    "plt.grid()"
   ]
  },
  {
   "cell_type": "markdown",
   "metadata": {},
   "source": [
    "#### p-valeur\n",
    "\n",
    "C'est la valeur maximum de $\\alpha$ telle que $IC_\\alpha$ rejette l'hypothèse.\n",
    "\n",
    "$$ p_{valeur} = max_\\alpha P_{H_0}\\left(T(X) \\ge t(x)\\right)$$"
   ]
  },
  {
   "cell_type": "markdown",
   "metadata": {},
   "source": [
    "### Illustration sur les données \"Diabète\" (slides 13-18)\n",
    "\n",
    "- Algo de forward seletion : chaque coef noté $\\hat{\\beta_k}$ est testé par rapport à l'hypothèse nulle $(\\beta_k = 0)$\n",
    "- Calcul de la statistique de teste et p-valeur pour chaque $\\frac{\\hat{\\beta_k}}{\\hat{s_k}}$ => sélection du $\\hat{\\beta_k}$ avec plus grande t-stat / petite p-valeur\n",
    "- Itération. En regardant slide 18, on a choisi 7 variables avec p valeurs similaires\n",
    "- In fine, on refait la régression avec les variables sélectionnées\n",
    "\n",
    "Note : Stepwise selection according to Wikipedia (https://en.wikipedia.org/wiki/Stepwise_regression)\n",
    "\n",
    "Voir aussi : \n",
    "- LASSO\n",
    "- Regularisation"
   ]
  },
  {
   "cell_type": "markdown",
   "metadata": {},
   "source": [
    "Sklearn a une procédure similaire qui sélectionne des variables en fonction du F-score, et la p-valeur. Le résultat ci-dessous sur le dataset Diabètes de Sklearn est un petit peu différent (attention il n'y a pas d'intercept ci-dessous, il y a en a un en #0 sur les slides)"
   ]
  },
  {
   "cell_type": "code",
   "execution_count": 60,
   "metadata": {},
   "outputs": [
    {
     "data": {
      "text/html": [
       "<div>\n",
       "<style scoped>\n",
       "    .dataframe tbody tr th:only-of-type {\n",
       "        vertical-align: middle;\n",
       "    }\n",
       "\n",
       "    .dataframe tbody tr th {\n",
       "        vertical-align: top;\n",
       "    }\n",
       "\n",
       "    .dataframe thead th {\n",
       "        text-align: right;\n",
       "    }\n",
       "</style>\n",
       "<table border=\"1\" class=\"dataframe\">\n",
       "  <thead>\n",
       "    <tr style=\"text-align: right;\">\n",
       "      <th></th>\n",
       "      <th>age</th>\n",
       "      <th>sex</th>\n",
       "      <th>bmi</th>\n",
       "      <th>bp</th>\n",
       "      <th>s1</th>\n",
       "      <th>s2</th>\n",
       "      <th>s3</th>\n",
       "      <th>s4</th>\n",
       "      <th>s5</th>\n",
       "      <th>s6</th>\n",
       "    </tr>\n",
       "  </thead>\n",
       "  <tbody>\n",
       "    <tr>\n",
       "      <td>0</td>\n",
       "      <td>0.038076</td>\n",
       "      <td>0.050680</td>\n",
       "      <td>0.061696</td>\n",
       "      <td>0.021872</td>\n",
       "      <td>-0.044223</td>\n",
       "      <td>-0.034821</td>\n",
       "      <td>-0.043401</td>\n",
       "      <td>-0.002592</td>\n",
       "      <td>0.019908</td>\n",
       "      <td>-0.017646</td>\n",
       "    </tr>\n",
       "    <tr>\n",
       "      <td>1</td>\n",
       "      <td>-0.001882</td>\n",
       "      <td>-0.044642</td>\n",
       "      <td>-0.051474</td>\n",
       "      <td>-0.026328</td>\n",
       "      <td>-0.008449</td>\n",
       "      <td>-0.019163</td>\n",
       "      <td>0.074412</td>\n",
       "      <td>-0.039493</td>\n",
       "      <td>-0.068330</td>\n",
       "      <td>-0.092204</td>\n",
       "    </tr>\n",
       "    <tr>\n",
       "      <td>2</td>\n",
       "      <td>0.085299</td>\n",
       "      <td>0.050680</td>\n",
       "      <td>0.044451</td>\n",
       "      <td>-0.005671</td>\n",
       "      <td>-0.045599</td>\n",
       "      <td>-0.034194</td>\n",
       "      <td>-0.032356</td>\n",
       "      <td>-0.002592</td>\n",
       "      <td>0.002864</td>\n",
       "      <td>-0.025930</td>\n",
       "    </tr>\n",
       "    <tr>\n",
       "      <td>3</td>\n",
       "      <td>-0.089063</td>\n",
       "      <td>-0.044642</td>\n",
       "      <td>-0.011595</td>\n",
       "      <td>-0.036656</td>\n",
       "      <td>0.012191</td>\n",
       "      <td>0.024991</td>\n",
       "      <td>-0.036038</td>\n",
       "      <td>0.034309</td>\n",
       "      <td>0.022692</td>\n",
       "      <td>-0.009362</td>\n",
       "    </tr>\n",
       "    <tr>\n",
       "      <td>4</td>\n",
       "      <td>0.005383</td>\n",
       "      <td>-0.044642</td>\n",
       "      <td>-0.036385</td>\n",
       "      <td>0.021872</td>\n",
       "      <td>0.003935</td>\n",
       "      <td>0.015596</td>\n",
       "      <td>0.008142</td>\n",
       "      <td>-0.002592</td>\n",
       "      <td>-0.031991</td>\n",
       "      <td>-0.046641</td>\n",
       "    </tr>\n",
       "  </tbody>\n",
       "</table>\n",
       "</div>"
      ],
      "text/plain": [
       "        age       sex       bmi        bp        s1        s2        s3  \\\n",
       "0  0.038076  0.050680  0.061696  0.021872 -0.044223 -0.034821 -0.043401   \n",
       "1 -0.001882 -0.044642 -0.051474 -0.026328 -0.008449 -0.019163  0.074412   \n",
       "2  0.085299  0.050680  0.044451 -0.005671 -0.045599 -0.034194 -0.032356   \n",
       "3 -0.089063 -0.044642 -0.011595 -0.036656  0.012191  0.024991 -0.036038   \n",
       "4  0.005383 -0.044642 -0.036385  0.021872  0.003935  0.015596  0.008142   \n",
       "\n",
       "         s4        s5        s6  \n",
       "0 -0.002592  0.019908 -0.017646  \n",
       "1 -0.039493 -0.068330 -0.092204  \n",
       "2 -0.002592  0.002864 -0.025930  \n",
       "3  0.034309  0.022692 -0.009362  \n",
       "4 -0.002592 -0.031991 -0.046641  "
      ]
     },
     "execution_count": 60,
     "metadata": {},
     "output_type": "execute_result"
    }
   ],
   "source": [
    "data = sklearn.datasets.load_diabetes()\n",
    "df = pd.DataFrame(data.data, columns = data.feature_names)\n",
    "df.head()"
   ]
  },
  {
   "cell_type": "code",
   "execution_count": 63,
   "metadata": {},
   "outputs": [],
   "source": [
    "f, pvalue = sklearn.feature_selection.f_regression(data.data, data.target)"
   ]
  },
  {
   "cell_type": "code",
   "execution_count": 84,
   "metadata": {},
   "outputs": [
    {
     "data": {
      "text/html": [
       "<div>\n",
       "<style scoped>\n",
       "    .dataframe tbody tr th:only-of-type {\n",
       "        vertical-align: middle;\n",
       "    }\n",
       "\n",
       "    .dataframe tbody tr th {\n",
       "        vertical-align: top;\n",
       "    }\n",
       "\n",
       "    .dataframe thead th {\n",
       "        text-align: right;\n",
       "    }\n",
       "</style>\n",
       "<table border=\"1\" class=\"dataframe\">\n",
       "  <thead>\n",
       "    <tr style=\"text-align: right;\">\n",
       "      <th></th>\n",
       "      <th>F</th>\n",
       "      <th>p-value</th>\n",
       "    </tr>\n",
       "  </thead>\n",
       "  <tbody>\n",
       "    <tr>\n",
       "      <td>2</td>\n",
       "      <td>230.653764</td>\n",
       "      <td>3.466006e-42</td>\n",
       "    </tr>\n",
       "    <tr>\n",
       "      <td>8</td>\n",
       "      <td>207.272091</td>\n",
       "      <td>8.823754e-39</td>\n",
       "    </tr>\n",
       "    <tr>\n",
       "      <td>3</td>\n",
       "      <td>106.521384</td>\n",
       "      <td>1.648533e-22</td>\n",
       "    </tr>\n",
       "    <tr>\n",
       "      <td>7</td>\n",
       "      <td>100.069264</td>\n",
       "      <td>2.304253e-21</td>\n",
       "    </tr>\n",
       "    <tr>\n",
       "      <td>6</td>\n",
       "      <td>81.239659</td>\n",
       "      <td>6.162865e-18</td>\n",
       "    </tr>\n",
       "    <tr>\n",
       "      <td>9</td>\n",
       "      <td>75.399683</td>\n",
       "      <td>7.580083e-17</td>\n",
       "    </tr>\n",
       "    <tr>\n",
       "      <td>4</td>\n",
       "      <td>20.710567</td>\n",
       "      <td>6.920712e-06</td>\n",
       "    </tr>\n",
       "    <tr>\n",
       "      <td>0</td>\n",
       "      <td>16.101374</td>\n",
       "      <td>7.055686e-05</td>\n",
       "    </tr>\n",
       "    <tr>\n",
       "      <td>5</td>\n",
       "      <td>13.746079</td>\n",
       "      <td>2.359848e-04</td>\n",
       "    </tr>\n",
       "    <tr>\n",
       "      <td>1</td>\n",
       "      <td>0.817423</td>\n",
       "      <td>3.664293e-01</td>\n",
       "    </tr>\n",
       "  </tbody>\n",
       "</table>\n",
       "</div>"
      ],
      "text/plain": [
       "            F       p-value\n",
       "2  230.653764  3.466006e-42\n",
       "8  207.272091  8.823754e-39\n",
       "3  106.521384  1.648533e-22\n",
       "7  100.069264  2.304253e-21\n",
       "6   81.239659  6.162865e-18\n",
       "9   75.399683  7.580083e-17\n",
       "4   20.710567  6.920712e-06\n",
       "0   16.101374  7.055686e-05\n",
       "5   13.746079  2.359848e-04\n",
       "1    0.817423  3.664293e-01"
      ]
     },
     "execution_count": 84,
     "metadata": {},
     "output_type": "execute_result"
    }
   ],
   "source": [
    "dfRes = pd.DataFrame()\n",
    "dfRes['F'] = f\n",
    "dfRes['p-value'] = pvalue\n",
    "dfRes.sort_values('p-value').head(10)"
   ]
  },
  {
   "cell_type": "markdown",
   "metadata": {},
   "source": [
    "# ROC et test d'hypothèses (slides 19-27)\n",
    "\n",
    "ROC, normalement utilisée en classification.\n",
    "\n",
    "- Spécificité : $Sp(q) = F(q)$ (1− risque de 1re espèce = Niveau)\n",
    "- Sensibilité : $Se(q) = 1 − G (q)$ (1− risque de 2nde espèce = Puissance)\n",
    "\n",
    "- ROC = (1- Sp(q), Se(q))\n",
    "\n",
    "Soit : $[0,1] \\rightarrow [0,1], ROC(t) = 1- G(F^-(1-t))$"
   ]
  },
  {
   "cell_type": "markdown",
   "metadata": {},
   "source": [
    "### Estimation de ROC \n",
    "- Sur données de test ou cross-validation en faisant varier le seuil (ex. : seuil de classification sur sortie de logistic)\n",
    "\n",
    "Note: Modèle sous-jacent de la p-valeur/t-stat dans les outils ? Généralement gaussien"
   ]
  },
  {
   "cell_type": "code",
   "execution_count": null,
   "metadata": {},
   "outputs": [],
   "source": []
  }
 ],
 "metadata": {
  "kernelspec": {
   "display_name": "Python 3",
   "language": "python",
   "name": "python3"
  },
  "language_info": {
   "codemirror_mode": {
    "name": "ipython",
    "version": 3
   },
   "file_extension": ".py",
   "mimetype": "text/x-python",
   "name": "python",
   "nbconvert_exporter": "python",
   "pygments_lexer": "ipython3",
   "version": "3.7.4"
  }
 },
 "nbformat": 4,
 "nbformat_minor": 2
}
