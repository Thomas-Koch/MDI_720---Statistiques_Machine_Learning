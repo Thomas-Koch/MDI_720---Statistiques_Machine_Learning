{
 "cells": [
  {
   "cell_type": "markdown",
   "metadata": {},
   "source": [
    "# Chargements divers"
   ]
  },
  {
   "cell_type": "code",
   "execution_count": 14,
   "metadata": {},
   "outputs": [],
   "source": [
    "import math # importe un package\n",
    "import numpy as np # importe un package sous un nom particulier\n",
    "from sklearn import linear_model # importe tout un module\n",
    "from os import mkdir # importe une fonction\n",
    "import time"
   ]
  },
  {
   "cell_type": "markdown",
   "metadata": {},
   "source": [
    "# Utilisation de l'aide"
   ]
  },
  {
   "cell_type": "code",
   "execution_count": 10,
   "metadata": {},
   "outputs": [
    {
     "name": "stdout",
     "output_type": "stream",
     "text": [
      "Help on built-in function mkdir in module posix:\n",
      "\n",
      "mkdir(path, mode=511, *, dir_fd=None)\n",
      "    Create a directory.\n",
      "    \n",
      "    If dir_fd is not None, it should be a file descriptor open to a directory,\n",
      "      and path should be relative; path will then be relative to that directory.\n",
      "    dir_fd may not be implemented on your platform.\n",
      "      If it is unavailable, using it will raise a NotImplementedError.\n",
      "    \n",
      "    The mode argument is ignored on Windows.\n",
      "\n"
     ]
    }
   ],
   "source": [
    "help(mkdir)"
   ]
  },
  {
   "cell_type": "code",
   "execution_count": 11,
   "metadata": {},
   "outputs": [],
   "source": [
    "linear_model.LinearRegression?"
   ]
  },
  {
   "cell_type": "markdown",
   "metadata": {},
   "source": [
    "# Versions de package, localisation des fonctions"
   ]
  },
  {
   "cell_type": "code",
   "execution_count": 12,
   "metadata": {},
   "outputs": [
    {
     "name": "stdout",
     "output_type": "stream",
     "text": [
      "1.12.1\n"
     ]
    },
    {
     "data": {
      "text/plain": [
       "(['class LinearRegression(LinearModel, RegressorMixin):\\n',\n",
       "  '    \"\"\"\\n',\n",
       "  '    Ordinary least squares Linear Regression.\\n',\n",
       "  '\\n',\n",
       "  '    Parameters\\n',\n",
       "  '    ----------\\n',\n",
       "  '    fit_intercept : boolean, optional\\n',\n",
       "  '        whether to calculate the intercept for this model. If set\\n',\n",
       "  '        to false, no intercept will be used in calculations\\n',\n",
       "  '        (e.g. data is expected to be already centered).\\n',\n",
       "  '\\n',\n",
       "  '    normalize : boolean, optional, default False\\n',\n",
       "  '        If True, the regressors X will be normalized before regression.\\n',\n",
       "  '        This parameter is ignored when `fit_intercept` is set to False.\\n',\n",
       "  '        When the regressors are normalized, note that this makes the\\n',\n",
       "  '        hyperparameters learnt more robust and almost independent of the number\\n',\n",
       "  '        of samples. The same property is not valid for standardized data.\\n',\n",
       "  '        However, if you wish to standardize, please use\\n',\n",
       "  '        `preprocessing.StandardScaler` before calling `fit` on an estimator\\n',\n",
       "  '        with `normalize=False`.\\n',\n",
       "  '\\n',\n",
       "  '    copy_X : boolean, optional, default True\\n',\n",
       "  '        If True, X will be copied; else, it may be overwritten.\\n',\n",
       "  '\\n',\n",
       "  '    n_jobs : int, optional, default 1\\n',\n",
       "  '        The number of jobs to use for the computation.\\n',\n",
       "  '        If -1 all CPUs are used. This will only provide speedup for\\n',\n",
       "  '        n_targets > 1 and sufficient large problems.\\n',\n",
       "  '\\n',\n",
       "  '    Attributes\\n',\n",
       "  '    ----------\\n',\n",
       "  '    coef_ : array, shape (n_features, ) or (n_targets, n_features)\\n',\n",
       "  '        Estimated coefficients for the linear regression problem.\\n',\n",
       "  '        If multiple targets are passed during the fit (y 2D), this\\n',\n",
       "  '        is a 2D array of shape (n_targets, n_features), while if only\\n',\n",
       "  '        one target is passed, this is a 1D array of length n_features.\\n',\n",
       "  '\\n',\n",
       "  '    residues_ : array, shape (n_targets,) or (1,) or empty\\n',\n",
       "  '        Sum of residuals. Squared Euclidean 2-norm for each target passed\\n',\n",
       "  '        during the fit. If the linear regression problem is under-determined\\n',\n",
       "  '        (the number of linearly independent rows of the training matrix is less\\n',\n",
       "  '        than its number of linearly independent columns), this is an empty\\n',\n",
       "  '        array. If the target vector passed during the fit is 1-dimensional,\\n',\n",
       "  '        this is a (1,) shape array.\\n',\n",
       "  '\\n',\n",
       "  '        .. versionadded:: 0.18\\n',\n",
       "  '\\n',\n",
       "  '    intercept_ : array\\n',\n",
       "  '        Independent term in the linear model.\\n',\n",
       "  '\\n',\n",
       "  '    Notes\\n',\n",
       "  '    -----\\n',\n",
       "  '    From the implementation point of view, this is just plain Ordinary\\n',\n",
       "  '    Least Squares (scipy.linalg.lstsq) wrapped as a predictor object.\\n',\n",
       "  '\\n',\n",
       "  '    \"\"\"\\n',\n",
       "  '\\n',\n",
       "  '    def __init__(self, fit_intercept=True, normalize=False, copy_X=True,\\n',\n",
       "  '                 n_jobs=1):\\n',\n",
       "  '        self.fit_intercept = fit_intercept\\n',\n",
       "  '        self.normalize = normalize\\n',\n",
       "  '        self.copy_X = copy_X\\n',\n",
       "  '        self.n_jobs = n_jobs\\n',\n",
       "  '\\n',\n",
       "  '    @property\\n',\n",
       "  '    @deprecated(\"``residues_`` is deprecated and will be removed in 0.19\")\\n',\n",
       "  '    def residues_(self):\\n',\n",
       "  '        \"\"\"Get the residues of the fitted model.\"\"\"\\n',\n",
       "  '        return self._residues\\n',\n",
       "  '\\n',\n",
       "  '    def fit(self, X, y, sample_weight=None):\\n',\n",
       "  '        \"\"\"\\n',\n",
       "  '        Fit linear model.\\n',\n",
       "  '\\n',\n",
       "  '        Parameters\\n',\n",
       "  '        ----------\\n',\n",
       "  '        X : numpy array or sparse matrix of shape [n_samples,n_features]\\n',\n",
       "  '            Training data\\n',\n",
       "  '\\n',\n",
       "  '        y : numpy array of shape [n_samples, n_targets]\\n',\n",
       "  '            Target values\\n',\n",
       "  '\\n',\n",
       "  '        sample_weight : numpy array of shape [n_samples]\\n',\n",
       "  '            Individual weights for each sample\\n',\n",
       "  '\\n',\n",
       "  '            .. versionadded:: 0.17\\n',\n",
       "  '               parameter *sample_weight* support to LinearRegression.\\n',\n",
       "  '\\n',\n",
       "  '        Returns\\n',\n",
       "  '        -------\\n',\n",
       "  '        self : returns an instance of self.\\n',\n",
       "  '        \"\"\"\\n',\n",
       "  '\\n',\n",
       "  '        n_jobs_ = self.n_jobs\\n',\n",
       "  \"        X, y = check_X_y(X, y, accept_sparse=['csr', 'csc', 'coo'],\\n\",\n",
       "  '                         y_numeric=True, multi_output=True)\\n',\n",
       "  '\\n',\n",
       "  '        if sample_weight is not None and np.atleast_1d(sample_weight).ndim > 1:\\n',\n",
       "  '            raise ValueError(\"Sample weights must be 1D array or scalar\")\\n',\n",
       "  '\\n',\n",
       "  '        X, y, X_offset, y_offset, X_scale = self._preprocess_data(\\n',\n",
       "  '            X, y, fit_intercept=self.fit_intercept, normalize=self.normalize,\\n',\n",
       "  '            copy=self.copy_X, sample_weight=sample_weight)\\n',\n",
       "  '\\n',\n",
       "  '        if sample_weight is not None:\\n',\n",
       "  '            # Sample weight can be implemented via a simple rescaling.\\n',\n",
       "  '            X, y = _rescale_data(X, y, sample_weight)\\n',\n",
       "  '\\n',\n",
       "  '        if sp.issparse(X):\\n',\n",
       "  '            if y.ndim < 2:\\n',\n",
       "  '                out = sparse_lsqr(X, y)\\n',\n",
       "  '                self.coef_ = out[0]\\n',\n",
       "  '                self._residues = out[3]\\n',\n",
       "  '            else:\\n',\n",
       "  '                # sparse_lstsq cannot handle y with shape (M, K)\\n',\n",
       "  '                outs = Parallel(n_jobs=n_jobs_)(\\n',\n",
       "  '                    delayed(sparse_lsqr)(X, y[:, j].ravel())\\n',\n",
       "  '                    for j in range(y.shape[1]))\\n',\n",
       "  '                self.coef_ = np.vstack(out[0] for out in outs)\\n',\n",
       "  '                self._residues = np.vstack(out[3] for out in outs)\\n',\n",
       "  '        else:\\n',\n",
       "  '            self.coef_, self._residues, self.rank_, self.singular_ = \\\\\\n',\n",
       "  '                linalg.lstsq(X, y)\\n',\n",
       "  '            self.coef_ = self.coef_.T\\n',\n",
       "  '\\n',\n",
       "  '        if y.ndim == 1:\\n',\n",
       "  '            self.coef_ = np.ravel(self.coef_)\\n',\n",
       "  '        self._set_intercept(X_offset, y_offset, X_scale)\\n',\n",
       "  '        return self\\n'],\n",
       " 417)"
      ]
     },
     "execution_count": 12,
     "metadata": {},
     "output_type": "execute_result"
    }
   ],
   "source": [
    "print(np.__version__) # obtenir la version d'un package\n",
    "from inspect import getsourcelines # obtenir le code source de fonctions\n",
    "getsourcelines(linear_model.LinearRegression)"
   ]
  },
  {
   "cell_type": "markdown",
   "metadata": {},
   "source": [
    "# Question 1"
   ]
  },
  {
   "cell_type": "code",
   "execution_count": 27,
   "metadata": {
    "scrolled": false
   },
   "outputs": [
    {
     "ename": "AttributeError",
     "evalue": "module 'math' has no attribute 'oeil'",
     "output_type": "error",
     "traceback": [
      "\u001b[0;31m---------------------------------------------------------------------------\u001b[0m",
      "\u001b[0;31mAttributeError\u001b[0m                            Traceback (most recent call last)",
      "\u001b[0;32m<ipython-input-27-bf51aa878e2a>\u001b[0m in \u001b[0;36m<module>\u001b[0;34m()\u001b[0m\n\u001b[1;32m     11\u001b[0m     \u001b[0;32mreturn\u001b[0m \u001b[0mi\u001b[0m\u001b[0;34m\u001b[0m\u001b[0m\n\u001b[1;32m     12\u001b[0m \u001b[0;34m\u001b[0m\u001b[0m\n\u001b[0;32m---> 13\u001b[0;31m \u001b[0mprint\u001b[0m\u001b[0;34m(\u001b[0m\u001b[0mnextpower\u001b[0m\u001b[0;34m(\u001b[0m\u001b[0;36m2\u001b[0m\u001b[0;34m)\u001b[0m\u001b[0;34m)\u001b[0m\u001b[0;34m\u001b[0m\u001b[0m\n\u001b[0m",
      "\u001b[0;32m<ipython-input-27-bf51aa878e2a>\u001b[0m in \u001b[0;36mnextpower\u001b[0;34m(n)\u001b[0m\n\u001b[1;32m      2\u001b[0m \u001b[0;34m\u001b[0m\u001b[0m\n\u001b[1;32m      3\u001b[0m \u001b[0;32mdef\u001b[0m \u001b[0mnextpower\u001b[0m\u001b[0;34m(\u001b[0m\u001b[0mn\u001b[0m\u001b[0;34m)\u001b[0m\u001b[0;34m:\u001b[0m\u001b[0;34m\u001b[0m\u001b[0m\n\u001b[0;32m----> 4\u001b[0;31m     \u001b[0;32mreturn\u001b[0m \u001b[0mmath\u001b[0m\u001b[0;34m.\u001b[0m\u001b[0moeil\u001b[0m\u001b[0;34m(\u001b[0m\u001b[0mmath\u001b[0m\u001b[0;34m.\u001b[0m\u001b[0mlog2\u001b[0m\u001b[0;34m(\u001b[0m\u001b[0mn\u001b[0m\u001b[0;34m)\u001b[0m\u001b[0;34m)\u001b[0m\u001b[0;34m\u001b[0m\u001b[0m\n\u001b[0m\u001b[1;32m      5\u001b[0m \u001b[0;34m\u001b[0m\u001b[0m\n\u001b[1;32m      6\u001b[0m \u001b[0;32mdef\u001b[0m \u001b[0mnextpower2\u001b[0m\u001b[0;34m(\u001b[0m\u001b[0mn\u001b[0m\u001b[0;34m)\u001b[0m\u001b[0;34m:\u001b[0m\u001b[0;34m\u001b[0m\u001b[0m\n",
      "\u001b[0;31mAttributeError\u001b[0m: module 'math' has no attribute 'oeil'"
     ]
    }
   ],
   "source": [
    "# Question 1\n",
    "\n",
    "def nextpower(n):\n",
    "    return math.oeil(math.log2(n))\n",
    "\n",
    "def nextpower2(n):\n",
    "    i = 0 \n",
    "    while n > 0 :\n",
    "        n = n >> i\n",
    "        i += 1\n",
    "    return i\n",
    "\n",
    "print(nextpower(2))"
   ]
  },
  {
   "cell_type": "markdown",
   "metadata": {},
   "source": [
    "# Question 2"
   ]
  },
  {
   "cell_type": "code",
   "execution_count": 40,
   "metadata": {},
   "outputs": [
    {
     "name": "stdout",
     "output_type": "stream",
     "text": [
      "C F I L O R U X\n"
     ]
    }
   ],
   "source": [
    "# Question 2 - méthode 1\n",
    "word = \"ABCDEFGHIJKLMNOPQRSTUVWXYZ\"\n",
    "print(word[2],word[5],word[8],word[11],word[14],word[17],word[20],word[23])\n",
    "# ou word[2],word[5],word[8],word[11],word[14],word[17],word[20],word[23]"
   ]
  },
  {
   "cell_type": "code",
   "execution_count": 34,
   "metadata": {},
   "outputs": [
    {
     "data": {
      "text/plain": [
       "'CFILORUX'"
      ]
     },
     "execution_count": 34,
     "metadata": {},
     "output_type": "execute_result"
    }
   ],
   "source": [
    "# Question 2 - méthode 2\n",
    "word = \"ABCDEFGHIJKLMNOPQRSTUVWXYZ\"\n",
    "word[2::3]"
   ]
  },
  {
   "cell_type": "code",
   "execution_count": 52,
   "metadata": {},
   "outputs": [
    {
     "name": "stdout",
     "output_type": "stream",
     "text": [
      "VWXYZ\n"
     ]
    },
    {
     "data": {
      "text/plain": [
       "'VXZ'"
      ]
     },
     "execution_count": 52,
     "metadata": {},
     "output_type": "execute_result"
    }
   ],
   "source": [
    "# Question 2 - méthode 3\n",
    "word = \"ABCDEFGHIJKLMNOPQRSTUVWXYZ\"\n",
    "word2 = word[21:26]\n",
    "#print (word2)\n",
    "word2[0::2]"
   ]
  },
  {
   "cell_type": "markdown",
   "metadata": {},
   "source": [
    "# Question 3"
   ]
  },
  {
   "cell_type": "code",
   "execution_count": 61,
   "metadata": {},
   "outputs": [
    {
     "name": "stdout",
     "output_type": "stream",
     "text": [
      "3.141592653589793\n",
      "3.141592654\n"
     ]
    },
    {
     "data": {
      "text/plain": [
       "3.141592654"
      ]
     },
     "execution_count": 61,
     "metadata": {},
     "output_type": "execute_result"
    }
   ],
   "source": [
    "from math import pi\n",
    "print(pi)\n",
    "print (\"%.9f\" % math.pi)\n",
    "round(pi,9)"
   ]
  },
  {
   "cell_type": "markdown",
   "metadata": {},
   "source": [
    "# Question 4"
   ]
  },
  {
   "cell_type": "code",
   "execution_count": 75,
   "metadata": {},
   "outputs": [
    {
     "name": "stdout",
     "output_type": "stream",
     "text": [
      "1 1 1 2 2 1 1 2 2\n",
      "14\n"
     ]
    }
   ],
   "source": [
    "# Question 4 - méthode 1\n",
    "s=\"HelLo WordLd!!\"\n",
    "print (s.count('H'),s.count('e'),s.count('l'),s.count('L'),s.count('o'),s.count('W'),s.count('r'),s.count('d'),s.count('!'))\n",
    "print(len(s))"
   ]
  },
  {
   "cell_type": "code",
   "execution_count": 103,
   "metadata": {},
   "outputs": [
    {
     "name": "stdout",
     "output_type": "stream",
     "text": [
      "{' ': 1, 'r': 1, 'L': 2, 'o': 2, 'l': 1, 'H': 1, 'd': 2, 'W': 1, '!': 2, 'e': 1}\n"
     ]
    }
   ],
   "source": [
    "# Question 4 - méthode 2\n",
    "s=\"HelLo WordLd!!\"\n",
    "l=list(s)\n",
    "#print(list(s))\n",
    "dictio = {}\n",
    "i=0\n",
    "for i in range(0,len(s)):\n",
    "    if l[i] in dictio:\n",
    "        dictio[l[i]] += 1\n",
    "    else :\n",
    "        dictio[l[i]] = 1\n",
    "\n",
    "print(dico)"
   ]
  },
  {
   "cell_type": "markdown",
   "metadata": {},
   "source": [
    "# Question 5"
   ]
  },
  {
   "cell_type": "code",
   "execution_count": 185,
   "metadata": {},
   "outputs": [
    {
     "name": "stdout",
     "output_type": "stream",
     "text": [
      "['A', 'B', 'C', 'D', 'E', 'F', 'G', 'H', 'I', 'J', 'K', 'L', 'M', 'N', 'O', 'P', 'Q', 'R', 'S', 'T', 'U', 'V', 'W', 'X', 'Y', 'Z']\n",
      "['R', 'N', 'U', 'W', 'I', 'X', 'F', 'S', 'T', 'V', 'G', 'D', 'Y', 'B', 'J', 'E', 'M', 'C', 'L', 'O', 'Z', 'P', 'H', 'A', 'K', 'Q']\n",
      "O J\n",
      "P E\n",
      "Y K\n",
      "U Z\n",
      "A R\n",
      "L D\n",
      "B N\n",
      "M Y\n",
      "J V\n",
      "W H\n",
      "E I\n",
      "R C\n",
      "Q M\n",
      "V P\n",
      "I T\n",
      "D W\n",
      "F X\n",
      "K G\n",
      "X A\n",
      "S L\n",
      "G F\n",
      "Z Q\n",
      "T O\n",
      "H S\n",
      "C U\n",
      "N B\n",
      "dict_items([('O', 'J'), ('P', 'E'), ('Y', 'K'), ('U', 'Z'), ('A', 'R'), ('L', 'D'), ('B', 'N'), ('M', 'Y'), ('J', 'V'), ('W', 'H'), ('E', 'I'), ('R', 'C'), ('Q', 'M'), ('V', 'P'), ('I', 'T'), ('D', 'W'), ('F', 'X'), ('K', 'G'), ('X', 'A'), ('S', 'L'), ('G', 'F'), ('Z', 'Q'), ('T', 'O'), ('H', 'S'), ('C', 'U'), ('N', 'B')])\n"
     ]
    }
   ],
   "source": [
    "import random\n",
    "#word = \"ABCDEFGHIJKLMNOPQRSTUVWXYZ\"\n",
    "#WordEnc = random.shuffle(word)\n",
    "\n",
    "# On récupère les données.\n",
    "word = \"ABCDEFGHIJKLMNOPQRSTUVWXYZ\"\n",
    "w=list(word)\n",
    "l=list(word)\n",
    "random.shuffle(l)\n",
    "print(w)\n",
    "print(l)\n",
    "\n",
    "# Création d'un dictionnaire {lettre_de_départ: lettre_encodée}.\n",
    "maping = {}\n",
    "for i in range(0,len(word)):  \n",
    "    maping[w[i]] = l[i]\n",
    "# On a maintenant un dictionnaire qui à chaque lettre fait correspondre sa valeur codée.\n",
    "\n",
    "# Affichage de la table d'encodage\n",
    "for clef, valeur in maping.items():\n",
    "    print (clef, valeur)\n",
    "#ou plus simplement print (maping)\n",
    "#ou encore\n",
    "print (maping.items())\n"
   ]
  },
  {
   "cell_type": "raw",
   "metadata": {},
   "source": [
    "# Question 5 - méthode 2\n",
    "# On récupère les données.\n",
    "phrase = input(\"Ecrivez une phrase:\")\n",
    "decalage = int(input(\"Valeur du décalage?\"))  # Conversion direct en int!\n",
    " \n",
    "# On crée un dictionnaire {lettre_de_départ: lettre_encodée}.\n",
    "maping = {}\n",
    "for i in range(26):  # Pour chaque nombre de 0 à 25\n",
    "    i_caesar = (i + decalage) % 26  # Modulo 26, pour toujours avoir un résultat compris entre 0 et 25 inclus (modulo 26 = reste de la division euclidienne par 26).\n",
    "    # On ajoute à ces nombre la \"valeur\" de la lettre a, et on les convertit en lettres!\n",
    "    c_caesar = chr(i_caesar + ord('a'))\n",
    "    c = chr(i + ord('a'))\n",
    "    maping[c] = c_caesar\n",
    "# On a maintenant un dictionnaire qui à chaque lettre fait correspondre sa valeur codée.\n",
    "result = \"\"\n",
    "for c in phrase:  # Pour chaque caractère de phrase...\n",
    "    result = result + maping[c]\n",
    "print(result)"
   ]
  },
  {
   "cell_type": "markdown",
   "metadata": {},
   "source": [
    "# Question 6"
   ]
  },
  {
   "cell_type": "code",
   "execution_count": 204,
   "metadata": {},
   "outputs": [
    {
     "name": "stdout",
     "output_type": "stream",
     "text": [
      "3.1415918681913633\n",
      "100000000 loops, best of 3: 19.7 ns per loop\n"
     ]
    }
   ],
   "source": [
    "# Solution 1\n",
    "def produit(_produit):\n",
    "    _produit = 2\n",
    "    for i in range(1,100000000000):\n",
    "        _produit = _produit * ((4*(i**2))/(4*(i**2)-1))\n",
    "    return produit\n",
    "print(_produit)\n",
    "%timeit produit"
   ]
  },
  {
   "cell_type": "code",
   "execution_count": 218,
   "metadata": {},
   "outputs": [
    {
     "ename": "SyntaxError",
     "evalue": "invalid syntax (<ipython-input-218-b79444c4ad18>, line 3)",
     "output_type": "error",
     "traceback": [
      "\u001b[0;36m  File \u001b[0;32m\"<ipython-input-218-b79444c4ad18>\"\u001b[0;36m, line \u001b[0;32m3\u001b[0m\n\u001b[0;31m    k = np.array([i]++)\u001b[0m\n\u001b[0m                      ^\u001b[0m\n\u001b[0;31mSyntaxError\u001b[0m\u001b[0;31m:\u001b[0m invalid syntax\n"
     ]
    }
   ],
   "source": [
    "# Solution 2 (avec numpy)\n",
    "for i in range(1,100):\n",
    "    k = np.array([i])\n",
    "print (k)"
   ]
  },
  {
   "cell_type": "code",
   "execution_count": null,
   "metadata": {},
   "outputs": [],
   "source": []
  }
 ],
 "metadata": {
  "kernelspec": {
   "display_name": "Python 3",
   "language": "python",
   "name": "python3"
  },
  "language_info": {
   "codemirror_mode": {
    "name": "ipython",
    "version": 3
   },
   "file_extension": ".py",
   "mimetype": "text/x-python",
   "name": "python",
   "nbconvert_exporter": "python",
   "pygments_lexer": "ipython3",
   "version": "3.5.3"
  }
 },
 "nbformat": 4,
 "nbformat_minor": 2
}
