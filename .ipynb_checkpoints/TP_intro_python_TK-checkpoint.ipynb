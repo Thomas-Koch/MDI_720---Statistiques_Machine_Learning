{
 "cells": [
  {
   "cell_type": "markdown",
   "metadata": {},
   "source": [
    "# Chargements divers"
   ]
  },
  {
   "cell_type": "code",
   "execution_count": 2,
   "metadata": {},
   "outputs": [],
   "source": [
    "import math                         # import a package\n",
    "import numpy as np                  # import a package with specified name\n",
    "from sklearn import linear_model    # import whole module\n",
    "from os import mkdir, rmdir, path   # import a funciton\n",
    "from inspect import getsourcelines  # get function source code\n",
    "import random\n",
    "import string\n",
    "import time\n",
    "import pandas as pd\n",
    "import urllib\n",
    "import zipfile\n",
    "import matplotlib.pyplot as plt     # for plots\n",
    "import seaborn as sns               # for plots\n",
    "import sys"
   ]
  },
  {
   "cell_type": "markdown",
   "metadata": {},
   "source": [
    "# Utilisation de l'aide"
   ]
  },
  {
   "cell_type": "code",
   "execution_count": 10,
   "metadata": {},
   "outputs": [
    {
     "name": "stdout",
     "output_type": "stream",
     "text": [
      "Help on built-in function mkdir in module posix:\n",
      "\n",
      "mkdir(path, mode=511, *, dir_fd=None)\n",
      "    Create a directory.\n",
      "    \n",
      "    If dir_fd is not None, it should be a file descriptor open to a directory,\n",
      "      and path should be relative; path will then be relative to that directory.\n",
      "    dir_fd may not be implemented on your platform.\n",
      "      If it is unavailable, using it will raise a NotImplementedError.\n",
      "    \n",
      "    The mode argument is ignored on Windows.\n",
      "\n"
     ]
    }
   ],
   "source": [
    "help(mkdir)"
   ]
  },
  {
   "cell_type": "code",
   "execution_count": 11,
   "metadata": {},
   "outputs": [],
   "source": [
    "linear_model.LinearRegression?"
   ]
  },
  {
   "cell_type": "markdown",
   "metadata": {},
   "source": [
    "# Versions de package, localisation des fonctions"
   ]
  },
  {
   "cell_type": "code",
   "execution_count": 12,
   "metadata": {},
   "outputs": [
    {
     "name": "stdout",
     "output_type": "stream",
     "text": [
      "1.12.1\n"
     ]
    },
    {
     "data": {
      "text/plain": [
       "(['class LinearRegression(LinearModel, RegressorMixin):\\n',\n",
       "  '    \"\"\"\\n',\n",
       "  '    Ordinary least squares Linear Regression.\\n',\n",
       "  '\\n',\n",
       "  '    Parameters\\n',\n",
       "  '    ----------\\n',\n",
       "  '    fit_intercept : boolean, optional\\n',\n",
       "  '        whether to calculate the intercept for this model. If set\\n',\n",
       "  '        to false, no intercept will be used in calculations\\n',\n",
       "  '        (e.g. data is expected to be already centered).\\n',\n",
       "  '\\n',\n",
       "  '    normalize : boolean, optional, default False\\n',\n",
       "  '        If True, the regressors X will be normalized before regression.\\n',\n",
       "  '        This parameter is ignored when `fit_intercept` is set to False.\\n',\n",
       "  '        When the regressors are normalized, note that this makes the\\n',\n",
       "  '        hyperparameters learnt more robust and almost independent of the number\\n',\n",
       "  '        of samples. The same property is not valid for standardized data.\\n',\n",
       "  '        However, if you wish to standardize, please use\\n',\n",
       "  '        `preprocessing.StandardScaler` before calling `fit` on an estimator\\n',\n",
       "  '        with `normalize=False`.\\n',\n",
       "  '\\n',\n",
       "  '    copy_X : boolean, optional, default True\\n',\n",
       "  '        If True, X will be copied; else, it may be overwritten.\\n',\n",
       "  '\\n',\n",
       "  '    n_jobs : int, optional, default 1\\n',\n",
       "  '        The number of jobs to use for the computation.\\n',\n",
       "  '        If -1 all CPUs are used. This will only provide speedup for\\n',\n",
       "  '        n_targets > 1 and sufficient large problems.\\n',\n",
       "  '\\n',\n",
       "  '    Attributes\\n',\n",
       "  '    ----------\\n',\n",
       "  '    coef_ : array, shape (n_features, ) or (n_targets, n_features)\\n',\n",
       "  '        Estimated coefficients for the linear regression problem.\\n',\n",
       "  '        If multiple targets are passed during the fit (y 2D), this\\n',\n",
       "  '        is a 2D array of shape (n_targets, n_features), while if only\\n',\n",
       "  '        one target is passed, this is a 1D array of length n_features.\\n',\n",
       "  '\\n',\n",
       "  '    residues_ : array, shape (n_targets,) or (1,) or empty\\n',\n",
       "  '        Sum of residuals. Squared Euclidean 2-norm for each target passed\\n',\n",
       "  '        during the fit. If the linear regression problem is under-determined\\n',\n",
       "  '        (the number of linearly independent rows of the training matrix is less\\n',\n",
       "  '        than its number of linearly independent columns), this is an empty\\n',\n",
       "  '        array. If the target vector passed during the fit is 1-dimensional,\\n',\n",
       "  '        this is a (1,) shape array.\\n',\n",
       "  '\\n',\n",
       "  '        .. versionadded:: 0.18\\n',\n",
       "  '\\n',\n",
       "  '    intercept_ : array\\n',\n",
       "  '        Independent term in the linear model.\\n',\n",
       "  '\\n',\n",
       "  '    Notes\\n',\n",
       "  '    -----\\n',\n",
       "  '    From the implementation point of view, this is just plain Ordinary\\n',\n",
       "  '    Least Squares (scipy.linalg.lstsq) wrapped as a predictor object.\\n',\n",
       "  '\\n',\n",
       "  '    \"\"\"\\n',\n",
       "  '\\n',\n",
       "  '    def __init__(self, fit_intercept=True, normalize=False, copy_X=True,\\n',\n",
       "  '                 n_jobs=1):\\n',\n",
       "  '        self.fit_intercept = fit_intercept\\n',\n",
       "  '        self.normalize = normalize\\n',\n",
       "  '        self.copy_X = copy_X\\n',\n",
       "  '        self.n_jobs = n_jobs\\n',\n",
       "  '\\n',\n",
       "  '    @property\\n',\n",
       "  '    @deprecated(\"``residues_`` is deprecated and will be removed in 0.19\")\\n',\n",
       "  '    def residues_(self):\\n',\n",
       "  '        \"\"\"Get the residues of the fitted model.\"\"\"\\n',\n",
       "  '        return self._residues\\n',\n",
       "  '\\n',\n",
       "  '    def fit(self, X, y, sample_weight=None):\\n',\n",
       "  '        \"\"\"\\n',\n",
       "  '        Fit linear model.\\n',\n",
       "  '\\n',\n",
       "  '        Parameters\\n',\n",
       "  '        ----------\\n',\n",
       "  '        X : numpy array or sparse matrix of shape [n_samples,n_features]\\n',\n",
       "  '            Training data\\n',\n",
       "  '\\n',\n",
       "  '        y : numpy array of shape [n_samples, n_targets]\\n',\n",
       "  '            Target values\\n',\n",
       "  '\\n',\n",
       "  '        sample_weight : numpy array of shape [n_samples]\\n',\n",
       "  '            Individual weights for each sample\\n',\n",
       "  '\\n',\n",
       "  '            .. versionadded:: 0.17\\n',\n",
       "  '               parameter *sample_weight* support to LinearRegression.\\n',\n",
       "  '\\n',\n",
       "  '        Returns\\n',\n",
       "  '        -------\\n',\n",
       "  '        self : returns an instance of self.\\n',\n",
       "  '        \"\"\"\\n',\n",
       "  '\\n',\n",
       "  '        n_jobs_ = self.n_jobs\\n',\n",
       "  \"        X, y = check_X_y(X, y, accept_sparse=['csr', 'csc', 'coo'],\\n\",\n",
       "  '                         y_numeric=True, multi_output=True)\\n',\n",
       "  '\\n',\n",
       "  '        if sample_weight is not None and np.atleast_1d(sample_weight).ndim > 1:\\n',\n",
       "  '            raise ValueError(\"Sample weights must be 1D array or scalar\")\\n',\n",
       "  '\\n',\n",
       "  '        X, y, X_offset, y_offset, X_scale = self._preprocess_data(\\n',\n",
       "  '            X, y, fit_intercept=self.fit_intercept, normalize=self.normalize,\\n',\n",
       "  '            copy=self.copy_X, sample_weight=sample_weight)\\n',\n",
       "  '\\n',\n",
       "  '        if sample_weight is not None:\\n',\n",
       "  '            # Sample weight can be implemented via a simple rescaling.\\n',\n",
       "  '            X, y = _rescale_data(X, y, sample_weight)\\n',\n",
       "  '\\n',\n",
       "  '        if sp.issparse(X):\\n',\n",
       "  '            if y.ndim < 2:\\n',\n",
       "  '                out = sparse_lsqr(X, y)\\n',\n",
       "  '                self.coef_ = out[0]\\n',\n",
       "  '                self._residues = out[3]\\n',\n",
       "  '            else:\\n',\n",
       "  '                # sparse_lstsq cannot handle y with shape (M, K)\\n',\n",
       "  '                outs = Parallel(n_jobs=n_jobs_)(\\n',\n",
       "  '                    delayed(sparse_lsqr)(X, y[:, j].ravel())\\n',\n",
       "  '                    for j in range(y.shape[1]))\\n',\n",
       "  '                self.coef_ = np.vstack(out[0] for out in outs)\\n',\n",
       "  '                self._residues = np.vstack(out[3] for out in outs)\\n',\n",
       "  '        else:\\n',\n",
       "  '            self.coef_, self._residues, self.rank_, self.singular_ = \\\\\\n',\n",
       "  '                linalg.lstsq(X, y)\\n',\n",
       "  '            self.coef_ = self.coef_.T\\n',\n",
       "  '\\n',\n",
       "  '        if y.ndim == 1:\\n',\n",
       "  '            self.coef_ = np.ravel(self.coef_)\\n',\n",
       "  '        self._set_intercept(X_offset, y_offset, X_scale)\\n',\n",
       "  '        return self\\n'],\n",
       " 417)"
      ]
     },
     "execution_count": 12,
     "metadata": {},
     "output_type": "execute_result"
    }
   ],
   "source": [
    "print(np.__version__) # obtenir la version d'un package\n",
    "from inspect import getsourcelines # obtenir le code source de fonctions\n",
    "getsourcelines(linear_model.LinearRegression)"
   ]
  },
  {
   "cell_type": "markdown",
   "metadata": {},
   "source": [
    "# 1. Introduction à Python, Numpy et Scipy\n",
    "\n",
    "# Question 1"
   ]
  },
  {
   "cell_type": "code",
   "execution_count": 12,
   "metadata": {
    "scrolled": false
   },
   "outputs": [
    {
     "name": "stdout",
     "output_type": "stream",
     "text": [
      "4\n",
      "4\n"
     ]
    }
   ],
   "source": [
    "# Question 1\n",
    "\n",
    "def nextpower(n):\n",
    "    return int(2 ** (math.ceil(math.log(n, 2))))\n",
    "\n",
    "def nextpowerbis(n):\n",
    "    sol = 1 \n",
    "    while sol < n :\n",
    "        sol *= 2\n",
    "    return sol\n",
    "\n",
    "print(nextpower(3))\n",
    "print(nextpowerbis(3))"
   ]
  },
  {
   "cell_type": "markdown",
   "metadata": {},
   "source": [
    "# Question 2"
   ]
  },
  {
   "cell_type": "markdown",
   "metadata": {},
   "source": [
    "### Méthode 1 (à ne pas utiliser)"
   ]
  },
  {
   "cell_type": "code",
   "execution_count": 40,
   "metadata": {},
   "outputs": [
    {
     "name": "stdout",
     "output_type": "stream",
     "text": [
      "C F I L O R U X\n"
     ]
    }
   ],
   "source": [
    "word = \"ABCDEFGHIJKLMNOPQRSTUVWXYZ\"\n",
    "print(word[2],word[5],word[8],word[11],word[14],word[17],word[20],word[23])\n",
    "# ou word[2],word[5],word[8],word[11],word[14],word[17],word[20],word[23]"
   ]
  },
  {
   "cell_type": "markdown",
   "metadata": {},
   "source": [
    "### Méthode 2"
   ]
  },
  {
   "cell_type": "code",
   "execution_count": 88,
   "metadata": {},
   "outputs": [
    {
     "data": {
      "text/plain": [
       "'cfilorux'"
      ]
     },
     "execution_count": 88,
     "metadata": {},
     "output_type": "execute_result"
    }
   ],
   "source": [
    "word = \"abcdefghijklmnopqrstuvwxyz\"\n",
    "word[2::3]"
   ]
  },
  {
   "cell_type": "code",
   "execution_count": 19,
   "metadata": {},
   "outputs": [
    {
     "name": "stdout",
     "output_type": "stream",
     "text": [
      "vxz\n",
      "vxz\n",
      "vxz\n"
     ]
    }
   ],
   "source": [
    "word = \"abcdefghijklmnopqrstuvwxyz\"\n",
    "word2 = word[21:26]\n",
    "print(word2[0::2])\n",
    "# ou encore :\n",
    "alphabet = string.ascii_lowercase\n",
    "print(alphabet[21:26:2])\n",
    "print(alphabet[-5::2])"
   ]
  },
  {
   "cell_type": "markdown",
   "metadata": {},
   "source": [
    "# Question 3"
   ]
  },
  {
   "cell_type": "code",
   "execution_count": 31,
   "metadata": {},
   "outputs": [
    {
     "name": "stdout",
     "output_type": "stream",
     "text": [
      "3.141592653589793\n",
      "3.141592654\n",
      "Le nombre pi est égal à 3.141592654\n",
      "Le nombre pi est égal à 3.141592654\n"
     ]
    }
   ],
   "source": [
    "from math import pi\n",
    "print(pi)\n",
    "print (\"%.9f\" % math.pi)\n",
    "# ou encore\n",
    "x = round(pi,9)\n",
    "print('Le nombre pi est égal à ' + str(x))\n",
    "# ou encore\n",
    "s = \"Le nombre %s est égal à %.9f\"\n",
    "print(s % (\"pi\", math.pi))"
   ]
  },
  {
   "cell_type": "markdown",
   "metadata": {},
   "source": [
    "# Question 4"
   ]
  },
  {
   "cell_type": "markdown",
   "metadata": {},
   "source": [
    "### Méthode 1 (à ne pas utiliser)"
   ]
  },
  {
   "cell_type": "code",
   "execution_count": 33,
   "metadata": {},
   "outputs": [
    {
     "name": "stdout",
     "output_type": "stream",
     "text": [
      "1 1 1 2 2 1 1 2 2\n",
      "14\n"
     ]
    }
   ],
   "source": [
    "s=\"HelLo WordLd!!\"\n",
    "print (s.count('H'),s.count('e'),s.count('l'),s.count('L'),s.count('o'),s.count('W'),s.count('r'),s.count('d'),s.count('!'))\n",
    "print(len(s))"
   ]
  },
  {
   "cell_type": "markdown",
   "metadata": {},
   "source": [
    "### Méthode 2"
   ]
  },
  {
   "cell_type": "code",
   "execution_count": 39,
   "metadata": {},
   "outputs": [
    {
     "name": "stdout",
     "output_type": "stream",
     "text": [
      "{'H': 1, 'e': 1, 'l': 1, 'L': 2, 'o': 2, ' ': 1, 'W': 1, 'r': 1, 'd': 2, '!': 2}\n",
      "\n",
      "\n",
      "H\n",
      "e\n",
      "l\n",
      "L\n",
      "o\n",
      " \n",
      "W\n",
      "o\n",
      "r\n",
      "L\n",
      "d\n",
      "!\n",
      "!\n",
      "{'H': 1, 'e': 1, 'l': 1, 'L': 2, 'o': 2, ' ': 1, 'W': 1, 'r': 1, 'd': 1, '!': 2}\n"
     ]
    }
   ],
   "source": [
    "s=\"HelLo WordLd!!\"\n",
    "l=list(s)\n",
    "#print(list(s))\n",
    "dico = {}\n",
    "i=0\n",
    "for i in range(0,len(s)):\n",
    "    if l[i] in dico:\n",
    "        dico[l[i]] += 1\n",
    "    else :\n",
    "        dico[l[i]] = 1\n",
    "\n",
    "print(dico)\n",
    "\n",
    "# ou encore mieux\n",
    "\n",
    "print('\\n')\n",
    "\n",
    "s_new = \"HelLo WorLd!!\"\n",
    "params = {}\n",
    "\n",
    "for letter in s_new:\n",
    "    print(letter)\n",
    "    if letter not in params:\n",
    "        params[letter] = 1\n",
    "    else:\n",
    "        params[letter] += 1\n",
    "print(params)"
   ]
  },
  {
   "cell_type": "markdown",
   "metadata": {},
   "source": [
    "# Question 5"
   ]
  },
  {
   "cell_type": "markdown",
   "metadata": {},
   "source": [
    "### Méthode 1\n",
    "Spécifique à l'encodage de l'alphabet"
   ]
  },
  {
   "cell_type": "code",
   "execution_count": 78,
   "metadata": {},
   "outputs": [
    {
     "name": "stdout",
     "output_type": "stream",
     "text": [
      "w est la liste suivante : ['A', 'B', 'C', 'D', 'E', 'F', 'G', 'H', 'I', 'J', 'K', 'L', 'M', 'N', 'O', 'P', 'Q', 'R', 'S', 'T', 'U', 'V', 'W', 'X', 'Y', 'Z']\n",
      "\n",
      "wRand est la liste suivante : ['H', 'J', 'D', 'B', 'C', 'I', 'Z', 'W', 'U', 'S', 'E', 'P', 'N', 'R', 'T', 'F', 'G', 'Y', 'O', 'M', 'Q', 'A', 'K', 'X', 'V', 'L']\n",
      "\n",
      "maping_forward est le dictionnaire suivant :\n",
      "A H\n",
      "B J\n",
      "C D\n",
      "D B\n",
      "E C\n",
      "F I\n",
      "G Z\n",
      "H W\n",
      "I U\n",
      "J S\n",
      "K E\n",
      "L P\n",
      "M N\n",
      "N R\n",
      "O T\n",
      "P F\n",
      "Q G\n",
      "R Y\n",
      "S O\n",
      "T M\n",
      "U Q\n",
      "V A\n",
      "W K\n",
      "X X\n",
      "Y V\n",
      "Z L\n",
      "\n",
      "maping_backward est le dictionnaire suivant :\n",
      "H A\n",
      "J B\n",
      "D C\n",
      "B D\n",
      "C E\n",
      "I F\n",
      "Z G\n",
      "W H\n",
      "U I\n",
      "S J\n",
      "E K\n",
      "P L\n",
      "N M\n",
      "R N\n",
      "T O\n",
      "F P\n",
      "G Q\n",
      "Y R\n",
      "O S\n",
      "M T\n",
      "Q U\n",
      "A V\n",
      "K W\n",
      "X X\n",
      "V Y\n",
      "L Z\n",
      "\n",
      "{'A': 'H', 'B': 'J', 'C': 'D', 'D': 'B', 'E': 'C', 'F': 'I', 'G': 'Z', 'H': 'W', 'I': 'U', 'J': 'S', 'K': 'E', 'L': 'P', 'M': 'N', 'N': 'R', 'O': 'T', 'P': 'F', 'Q': 'G', 'R': 'Y', 'S': 'O', 'T': 'M', 'U': 'Q', 'V': 'A', 'W': 'K', 'X': 'X', 'Y': 'V', 'Z': 'L'}\n",
      "\n",
      "dict_items([('A', 'H'), ('B', 'J'), ('C', 'D'), ('D', 'B'), ('E', 'C'), ('F', 'I'), ('G', 'Z'), ('H', 'W'), ('I', 'U'), ('J', 'S'), ('K', 'E'), ('L', 'P'), ('M', 'N'), ('N', 'R'), ('O', 'T'), ('P', 'F'), ('Q', 'G'), ('R', 'Y'), ('S', 'O'), ('T', 'M'), ('U', 'Q'), ('V', 'A'), ('W', 'K'), ('X', 'X'), ('Y', 'V'), ('Z', 'L')])\n"
     ]
    }
   ],
   "source": [
    "import random\n",
    "\n",
    "# On récupère les données\n",
    "word = \"ABCDEFGHIJKLMNOPQRSTUVWXYZ\"\n",
    "w=list(word)\n",
    "wRand=list(word)\n",
    "random.shuffle(wRand)\n",
    "print('w est la liste suivante : ' + str(w) + '\\n')\n",
    "print('wRand est la liste suivante : ' + str(wRand) + '\\n')\n",
    "\n",
    "# Création d'un dictionnaire {lettre_de_départ: lettre_encodée}\n",
    "maping_forward = {}\n",
    "maping_backward = {}\n",
    "i = 0\n",
    "for letter in word:\n",
    "    # print(letter)\n",
    "    maping_forward[letter] = wRand[i]\n",
    "    maping_backward[wRand[i]] = letter\n",
    "    i += 1\n",
    "# On a maintenant un dictionnaire qui à chaque lettre fait correspondre sa valeur codée et inversement\n",
    "\n",
    "# Affichage de la table d'encodage de manière plus visuelle\n",
    "print('maping_forward est le dictionnaire suivant :')\n",
    "for keys, values in maping_forward.items():\n",
    "    print (keys, values)\n",
    "print('')\n",
    "\n",
    "print('maping_backward est le dictionnaire suivant :')\n",
    "for keys, values in maping_backward.items():\n",
    "    print (keys, values)\n",
    "print('')\n",
    "\n",
    "# ou plus simplement mais mins visuel\n",
    "print(str(maping_forward) + '\\n') \n",
    "#ou encore\n",
    "print (maping_forward.items())\n"
   ]
  },
  {
   "cell_type": "markdown",
   "metadata": {},
   "source": [
    "### Méthode 2 \n",
    "Plus complète et générale avec définition d'une fonction d'encodage"
   ]
  },
  {
   "cell_type": "code",
   "execution_count": 85,
   "metadata": {},
   "outputs": [
    {
     "name": "stdout",
     "output_type": "stream",
     "text": [
      "Tu les crois malades? Ça gémit ça rote... ça titube...ça pustule... Tu veux vider ta salle d'attente? Instantanément?même de ceux qui s'en étranglent à se ramoner les glaviots ?...Propose un coup de cinéma!... un apéro gratuit en face!... tu vas voir combien qu'il t'en reste...S'ils viennent te relancer c'est d'abord parce qu'ils s'emmerdent. T'en vois pas un la veille des fêtes...\n",
      "\n",
      "dK PXF uavfF hmPmRXF? Çm oéhfr çm avrX... çm rfrKyX...çm sKFrKPX... dK SXKg SfRXa rm FmPPX R'mrrXMrX? bMFrmMrmMéhXMr?hêhX RX uXKg YKf F'XM éramMoPXMr à FX amhvMXa PXF oPmSfvrF ?...LavsvFX KM uvKs RX ufMéhm!... KM mséav oamrKfr XM HmuX!... rK SmF Svfa uvhyfXM YK'fP r'XM aXFrX...I'fPF SfXMMXMr rX aXPmMuXa u'XFr R'myvaR smauX YK'fPF F'XhhXaRXMr. d'XM SvfF smF KM Pm SXfPPX RXF HêrXF...\n",
      "\n",
      "Tu les crois malades? Ça gémit ça rote... ça titube...ça pustule... Tu veux vider ta salle d'attente? Instantanément?même de ceux qui s'en étranglent à se ramoner les glaviots ?...Propose un coup de cinéma!... un apéro gratuit en face!... tu vas voir combien qu'il t'en reste...S'ils viennent te relancer c'est d'abord parce qu'ils s'emmerdent. T'en vois pas un la veille des fêtes...\n",
      "\n"
     ]
    }
   ],
   "source": [
    "alphabet = string.ascii_letters\n",
    "\n",
    "indexes = list(range(len(alphabet)))\n",
    "random.shuffle(indexes)\n",
    "\n",
    "rosette_forward = {}\n",
    "rosette_backward = {}\n",
    "for i, letter in enumerate(alphabet):\n",
    "    rosette_forward[letter] = alphabet[indexes[i]]\n",
    "    rosette_backward[alphabet[indexes[i]]] = letter\n",
    "\n",
    "rosette_forward[\" \"] = \" \"\n",
    "rosette_backward[\" \"] = \" \"\n",
    "\n",
    "\n",
    "def coding(message, rosette, alphabet):\n",
    "    \"\"\"Encoding function.\"\"\"\n",
    "    message_coded = \"\"\n",
    "    for i, letter in enumerate(message):\n",
    "        if letter in alphabet:\n",
    "            message_coded += rosette[letter]\n",
    "        else:\n",
    "            message_coded += letter\n",
    "    message_coded = message_coded\n",
    "    return message_coded\n",
    "\n",
    "\n",
    "message = \"Tu les crois malades? Ça gémit ça rote... ça titube...\" \\\n",
    "    \"ça pustule... Tu veux vider ta salle d'attente? Instantanément?\" \\\n",
    "    \"même de ceux qui s'en étranglent à se ramoner les glaviots ?...\" \\\n",
    "    \"Propose un coup de cinéma!... un apéro gratuit en face!... \" \\\n",
    "    \"tu vas voir combien qu'il t'en reste...S'ils viennent te relancer \" \\\n",
    "    \"c'est d'abord parce qu'ils s'emmerdent. \" \\\n",
    "    \"T'en vois pas un la veille des fêtes...\"\n",
    "\n",
    "# message = \"Tu les crois malades ?\".decode('utf8')\n",
    "\n",
    "print(message + \"\\n\")\n",
    "message_encoded = coding(message, rosette_forward, alphabet)\n",
    "print(message_encoded + \"\\n\")\n",
    "message_decoded = coding(message_encoded, rosette_backward, alphabet)\n",
    "print(message_decoded + \"\\n\")\n"
   ]
  },
  {
   "cell_type": "markdown",
   "metadata": {},
   "source": [
    "# Question 6"
   ]
  },
  {
   "cell_type": "markdown",
   "metadata": {},
   "source": [
    "### Méthode 1 (avec boucle)"
   ]
  },
  {
   "cell_type": "code",
   "execution_count": 104,
   "metadata": {},
   "outputs": [
    {
     "name": "stdout",
     "output_type": "stream",
     "text": [
      "3.141591868192149\n",
      "1.314678430557251\n"
     ]
    }
   ],
   "source": [
    "# Solution 1 : pas la plus efficace\n",
    "def calc(n):\n",
    "    result = 2\n",
    "    for k in range(1, n+1, 1):\n",
    "        result *= (4*(k**2)) / (4*(k**2)-1)\n",
    "    return result\n",
    "\n",
    "t = time.time() #pour mémoriser l'heure exacte avec le début du calcul\n",
    "print(calc(1000000))\n",
    "print(time.time() - t) #pour afficher le temps de calcul en prenant l'heure de fin du calcul et en lui enlevant celle de début"
   ]
  },
  {
   "cell_type": "code",
   "execution_count": 111,
   "metadata": {},
   "outputs": [
    {
     "name": "stdout",
     "output_type": "stream",
     "text": [
      "3.141591868192149\n",
      "0.851525068283081\n"
     ]
    }
   ],
   "source": [
    "# Solution 2 : permet de réduire le temps de calcul en séparant les éléments à calculer (idée de simplifier les étapes de calcul)\n",
    "def calc2(n):\n",
    "    result = 2.\n",
    "    for k in range(1, n+1, 1):\n",
    "        int = 4 * k ** 2\n",
    "        result *= int / (int - 1.)\n",
    "    return result\n",
    "\n",
    "t = time.time()\n",
    "print(calc2(1000000))\n",
    "print(time.time() - t)"
   ]
  },
  {
   "cell_type": "markdown",
   "metadata": {},
   "source": [
    "### Méthode 2 (avec numpy as 'np' et sans boucle) : *beaucoup plus rapide que les autres méthodes*\n",
    "L'idée est que l'on fait des calculs sur des tableaux."
   ]
  },
  {
   "cell_type": "code",
   "execution_count": 120,
   "metadata": {},
   "outputs": [
    {
     "name": "stdout",
     "output_type": "stream",
     "text": [
      "3.141591868192149\n",
      "0.06620359420776367\n"
     ]
    }
   ],
   "source": [
    "def calc3(n):\n",
    "    sol = np.arange(1, n + 1, 1) # np.arange() retourne un objet de type numpy.ndarray.\n",
    "    sol = sol ** 2 # on met à la puissance 2 tous les éléments du tableau\n",
    "    sol = 4. * sol / (4. * sol - 1.) #on réutilise le résultat obtenu pour poursuivre le calcul de la même façon\n",
    "    return 2 * np.prod(sol) # np.prod permet de renvoyer le produit des éléments du tableau selon un axe que l'on peut définir si besoin\n",
    "\n",
    "t = time.time()\n",
    "print(calc3(1000000))\n",
    "print(time.time() - t)"
   ]
  },
  {
   "cell_type": "markdown",
   "metadata": {},
   "source": [
    "# Question 7"
   ]
  },
  {
   "cell_type": "code",
   "execution_count": 127,
   "metadata": {},
   "outputs": [
    {
     "name": "stdout",
     "output_type": "stream",
     "text": [
      "[-2, 1, 3, 3, 5]\n"
     ]
    }
   ],
   "source": [
    "def quicksort(ll):\n",
    "# a sorting algorithm with a pivot value\n",
    "    if len(ll) <= 1:\n",
    "        return ll\n",
    "    else:\n",
    "        pivot = ll.pop() # pivot = last element of the list ll.\n",
    "        less = []\n",
    "        greater = []\n",
    "        for x in ll:\n",
    "            if x <= pivot:\n",
    "                less.append(x) # append 'x' to 'less' : The append() method adds a single item to the existing list. It doesn't return a new list, rather it modifies the original list.\n",
    "            else:\n",
    "                greater.append(x) # append 'x' to 'greater'\n",
    "        return quicksort(less) + [pivot] + quicksort(greater) # concatenate quicksort(less), pivot and quicksort(greater)\n",
    "# on retourne les quicksort de less et greater car il faut ranger dans l'ordre ces listes avant de concaténer\n",
    "    \n",
    "print(quicksort([-2, 3, 5, 1, 3]))"
   ]
  },
  {
   "cell_type": "markdown",
   "metadata": {},
   "source": [
    "# Question 8"
   ]
  },
  {
   "cell_type": "code",
   "execution_count": 128,
   "metadata": {},
   "outputs": [
    {
     "name": "stdout",
     "output_type": "stream",
     "text": [
      "[[ 0.83904762 -0.25128812  0.69689847  0.98184539  0.81199513 -0.29897788]\n",
      " [ 0.53528084  0.77512862 -0.76423965  0.93969754 -0.01448841 -0.2749641 ]\n",
      " [ 0.04608056  0.09042215 -0.49616887 -0.07100228 -0.90042839  0.72305366]\n",
      " [-0.34817179 -0.07935868  0.78465226  0.78030285 -0.67708278  0.62637545]\n",
      " [-0.98784417  0.99987518 -0.93501757 -0.52336733  0.05880751  0.52917806]]\n"
     ]
    }
   ],
   "source": [
    "matrice = np.random.uniform(-1, 1, (5, 6)) # np.random.uniform(low=0.0, high=1.0, size=None) draws samples from a uniform distribution.\n",
    "print(matrice)"
   ]
  },
  {
   "cell_type": "markdown",
   "metadata": {},
   "source": [
    "### Solution 1 : multiplication de matrices\n",
    "Plus difficile à voir car demande d'être à l'aise sur les multiplications de matrices"
   ]
  },
  {
   "cell_type": "code",
   "execution_count": 136,
   "metadata": {},
   "outputs": [
    {
     "name": "stdout",
     "output_type": "stream",
     "text": [
      "[[ 0.83904762 -0.25128812  0.69689847  0.98184539  0.81199513 -0.29897788]\n",
      " [ 0.53528084  0.77512862 -0.76423965  0.93969754 -0.01448841 -0.2749641 ]\n",
      " [ 0.04608056  0.09042215 -0.49616887 -0.07100228 -0.90042839  0.72305366]\n",
      " [-0.34817179 -0.07935868  0.78465226  0.78030285 -0.67708278  0.62637545]\n",
      " [-0.98784417  0.99987518 -0.93501757 -0.52336733  0.05880751  0.52917806]]\n",
      "[[ 1.  0.  0.  0.  0.  0.]\n",
      " [-2.  1.  0.  0.  0.  0.]\n",
      " [ 0.  0.  1.  0.  0.  0.]\n",
      " [ 0.  0. -2.  1.  0.  0.]\n",
      " [ 0.  0.  0.  0.  1.  0.]\n",
      " [ 0.  0.  0.  0. -2.  1.]]\n",
      "[[ 1.34162386 -0.25128812 -1.26679231  0.98184539  1.40995089 -0.29897788]\n",
      " [-1.01497639  0.77512862 -2.64363473  0.93969754  0.5354398  -0.2749641 ]\n",
      " [-0.13476373  0.09042215 -0.35416432 -0.07100228 -2.34653572  0.72305366]\n",
      " [-0.18945442 -0.07935868 -0.77595344  0.78030285 -1.92983367  0.62637545]\n",
      " [-2.98759452  0.99987518  0.11171709 -0.52336733 -0.99954861  0.52917806]]\n"
     ]
    }
   ],
   "source": [
    "# first solution: matrix multiplication.\n",
    "m_int = np.eye(6, 6) # Return a 2-D array with ones on the diagonal and zeros elsewhere.\n",
    "m_int[1, 0] = -2 # Ligne 1 colonne 0 = -2\n",
    "m_int[3, 2] = -2 # Ligne 3 colonne 2 = -2\n",
    "m_int[5, 4] = -2 # Ligne 5 colonne 4 = -2\n",
    "print(matrice)\n",
    "print(m_int)\n",
    "m_sol1 = matrice.dot(m_int) # Dot product of two arrays\n",
    "print(m_sol1)"
   ]
  },
  {
   "cell_type": "markdown",
   "metadata": {},
   "source": [
    "### Solution 2 : manipulation sur les colonnes\n",
    "Beaucoup plus simple à mentaliser et également à coder"
   ]
  },
  {
   "cell_type": "code",
   "execution_count": 141,
   "metadata": {},
   "outputs": [
    {
     "name": "stdout",
     "output_type": "stream",
     "text": [
      "[[ 1.34162386 -0.25128812 -1.26679231  0.98184539  1.40995089 -0.29897788]\n",
      " [-1.01497639  0.77512862 -2.64363473  0.93969754  0.5354398  -0.2749641 ]\n",
      " [-0.13476373  0.09042215 -0.35416432 -0.07100228 -2.34653572  0.72305366]\n",
      " [-0.18945442 -0.07935868 -0.77595344  0.78030285 -1.92983367  0.62637545]\n",
      " [-2.98759452  0.99987518  0.11171709 -0.52336733 -0.99954861  0.52917806]]\n"
     ]
    },
    {
     "data": {
      "text/plain": [
       "True"
      ]
     },
     "execution_count": 141,
     "metadata": {},
     "output_type": "execute_result"
    }
   ],
   "source": [
    "# second solution: colonnes manipulation\n",
    "m_sol2 = matrice.copy() # copie la matrice 'matrice' originelle\n",
    "m_sol2[:, 0] = matrice[:, 0] - 2 * matrice[:, 1] # m_sol[:, 0] est la première colonne\n",
    "m_sol2[:, 2] = matrice[:, 2] - 2 * matrice[:, 3]\n",
    "m_sol2[:, 4] = matrice[:, 4] - 2 * matrice[:, 5]\n",
    "print(m_sol2)\n",
    "\n",
    "np.allclose(m_sol2, matrice.dot(m_int)) # vérifie qu'on obtient bien le même résultat avec chaque méthode"
   ]
  },
  {
   "cell_type": "markdown",
   "metadata": {},
   "source": [
    "### Remplacement des valeurs négatives par 0 en utilisant un masque binaire."
   ]
  },
  {
   "cell_type": "code",
   "execution_count": 131,
   "metadata": {},
   "outputs": [
    {
     "name": "stdout",
     "output_type": "stream",
     "text": [
      "[[1.34162386 0.         0.         0.98184539 1.40995089 0.        ]\n",
      " [0.         0.77512862 0.         0.93969754 0.5354398  0.        ]\n",
      " [0.         0.09042215 0.         0.         0.         0.72305366]\n",
      " [0.         0.         0.         0.78030285 0.         0.62637545]\n",
      " [0.         0.99987518 0.11171709 0.         0.         0.52917806]]\n"
     ]
    }
   ],
   "source": [
    "# zeroing negative values\n",
    "m_sol2[m_sol2 <= 0] = 0\n",
    "print(m_sol2)"
   ]
  },
  {
   "cell_type": "markdown",
   "metadata": {},
   "source": [
    "# Question 9"
   ]
  },
  {
   "cell_type": "code",
   "execution_count": 13,
   "metadata": {},
   "outputs": [
    {
     "name": "stdout",
     "output_type": "stream",
     "text": [
      "La matrice G est symétrique : True\n",
      "[ 1.12647554e+01  9.69553002e+00  8.05670677e+00  3.35124520e+00\n",
      "  2.14122132e+00  1.79484461e-15  1.03601613e-15  8.49248810e-16\n",
      "  6.11999820e-16  5.28340518e-16  1.40124593e-16  5.36261404e-17\n",
      " -3.53950644e-17 -7.62152059e-17 -1.94250002e-16 -5.87825272e-16\n",
      " -8.04997430e-16 -1.14492334e-15 -1.26606323e-15 -1.94313548e-15]\n",
      "Are the eigenvalues all positive ? That is True\n",
      "The rank is : 5\n",
      "The rank is also: 5\n"
     ]
    }
   ],
   "source": [
    "matrice = np.random.uniform(-1, 1, (5, 20)) # np.random.uniform(low=0.0, high=1.0, size=None) draws samples from a uniform distribution.\n",
    "G = matrice.T.dot(matrice) # multiplie la transposée de T (matrice.T) avec matrice (.dot(matrice))\n",
    "\n",
    "# Test G symétrique\n",
    "print('La matrice G est symétrique : ' + str(np.allclose(G, G.T))) #on compare G et G.T pour savoir si G est symétrique\n",
    "\n",
    "\n",
    "# Test vp positives - solution 1 :\n",
    "eig_val, _ = np.linalg.eigh(G)  # Return the eigenvalues and eigenvectors of a Hermitian or symmetric matrix\n",
    "\n",
    "# Test vp positives - solution 2 : sans les vecteurs propres\n",
    "eig_val = np.linalg.eigvalsh(G) # Compute the eigenvalues of a Hermitian or real symmetric matrix. Main difference from eigh: the eigenvectors are not computed\n",
    "\n",
    "idx = eig_val.argsort()[::-1] # .argsort() Returns the indices that would sort an array.\n",
    "# Perform an indirect sort along the given axis using the algorithm specified by the kind keyword. It returns an array of indices of the same shape as a that index data along the given axis in sorted order.\n",
    "\n",
    "print(eig_val[idx])\n",
    "# Beware some are numerically 0, but negative!\n",
    "\n",
    "nnz_eig = np.logical_not(np.isclose(eig_val, np.zeros(eig_val.shape)))\n",
    "\n",
    "# positivity of non-zero eigenvalues:\n",
    "eig_nnz_val = eig_val[nnz_eig]\n",
    "print('Are the eigenvalues all positive ? That is ' + str(np.all(eig_nnz_val > 0)))\n",
    "\n",
    "# rank computation:\n",
    "rk = str(np.sum(nnz_eig))\n",
    "print('The rank is : ' + rk)\n",
    "print('The rank is also: ' + str(np.linalg.matrix_rank(G))) # np.linalg.matrix_rank() Return matrix rank of array using SVD method\n"
   ]
  },
  {
   "cell_type": "markdown",
   "metadata": {},
   "source": [
    "# 2. Introduction à Pandas, Matplotlib, etc.\n",
    "\n",
    "# Question 10"
   ]
  },
  {
   "cell_type": "code",
   "execution_count": null,
   "metadata": {},
   "outputs": [],
   "source": []
  }
 ],
 "metadata": {
  "kernelspec": {
   "display_name": "Python 3",
   "language": "python",
   "name": "python3"
  },
  "language_info": {
   "codemirror_mode": {
    "name": "ipython",
    "version": 3
   },
   "file_extension": ".py",
   "mimetype": "text/x-python",
   "name": "python",
   "nbconvert_exporter": "python",
   "pygments_lexer": "ipython3",
   "version": "3.7.3"
  }
 },
 "nbformat": 4,
 "nbformat_minor": 2
}
